{
  "cells": [
    {
      "cell_type": "markdown",
      "metadata": {
        "colab_type": "text",
        "id": "view-in-github"
      },
      "source": [
        "<a href=\"https://colab.research.google.com/github/PosgradoMNA/actividades-de-aprendizaje-a01110946/blob/main/assignment01_Python-for-Data-Science-IBM.ipynb\" target=\"_parent\"><img src=\"https://colab.research.google.com/assets/colab-badge.svg\" alt=\"Open In Colab\"/></a>"
      ]
    },
    {
      "cell_type": "code",
      "execution_count": null,
      "metadata": {
        "colab": {
          "base_uri": "https://localhost:8080/"
        },
        "id": "LzUSMM79NR9P",
        "outputId": "0e6cb421-1096-426a-b31a-f61d059def81"
      },
      "outputs": [
        {
          "name": "stdout",
          "output_type": "stream",
          "text": [
            "assignment01 for GitJobish03 and edited in git, and 18\n"
          ]
        }
      ],
      "source": [
        "print('assignment01_Python-for-Data-Science-IBM for a01110946 and edited in VS Code, and 22')"
      ]
    },
    {
      "cell_type": "markdown",
      "metadata": {
        "id": "md9dN8w6WzRV"
      },
      "source": [
        "## **Actividad de semana 1 - 2: Python for Data Science (IBM)**\n",
        "---\n",
        "Estos son los apuntes que tomé de los primeros tres módulos del curso de Python for Data Sciece (IBM).\n",
        "---"
      ]
    },
    {
      "cell_type": "markdown",
      "metadata": {
        "id": "qmTwL3YuYvU6"
      },
      "source": [
        "# Module 1: Phyton Basics\n",
        "\n",
        "### Types:\n",
        "*   `int` = Integers\n",
        "*   `float` = Float\n",
        "*   `str` = String\n",
        "*   `bool` = Boolean || True (1) && False (0)\n",
        "\n",
        "### String Operations:\n",
        "Indexing[#], el # dentro de [] significa el orden del caracter dentro de la palabra. 0 representa el primer dígito, y si el número es negativo, entonces empezamos de atrás hacia adelante, en donde [-1] es el último caracter del string.\n",
        "\n",
        "Algunos methods importantes:\n",
        "*   `str.upper()`\n",
        "*   `str.replace()`\n",
        "*   `str.find()`\n",
        "*   `str.len()`"
      ]
    },
    {
      "cell_type": "markdown",
      "metadata": {
        "id": "FaYrf7NUZYEc"
      },
      "source": [
        "# Module 2: Phyton Data Structures\n",
        "\n",
        "### Lists:\n",
        "Son similares a los Array. Pueden tener elementos repetidos, tienen un órden específico y son mutable. Se representan con [].\n",
        "\n",
        "### Tuples:\n",
        "Similares a Lists, pero son immutable. Se representan con ().\n",
        "\n",
        "### Sets:\n",
        "Similar a los diagramas de Venn. Union, Intersection, Difference. Solo tienen elementos únicos, no repetidos; pero sus elementos no tienen orden específico, también son mutable. Se representan con {}.\n",
        "\n",
        "### Dictionaries:\n",
        "`key:value` pair. Son similares a los JSON en estructura/sintxis, también son mutable. Se representan con {}."
      ]
    },
    {
      "cell_type": "markdown",
      "metadata": {
        "id": "P_UOOi4RbD4E"
      },
      "source": [
        "# Module 3: Phyton Programming Fundamentals\n",
        "\n",
        "### Conditions and branching:\n",
        "* *Menor que* (<)\n",
        "* *Menor o igual que* (<=)\n",
        "* *Mayor que* (>)\n",
        "* *Mayor o igual que* (>=)\n",
        "* *Igual a* (==)\n",
        "* *No es igual a* (!=)\n",
        "* *OR* (||) Si cualquiera de los elementos comparados es True, el resultado será * True; solo cuando ambos/todos son False, el resultado será False. \n",
        "* *AND* (&&) Si cualquiera de los elementos comparados es False, el resultado será False; solo cuando ambos/todos son True, el resultado será True.\n",
        "* *if/else* si la primera condicional se cumple, entonces True y se ejecuta la primera función; si no, se ejecuta la segunda función.\n",
        "* *elif* si la primera condicional se cumple, entonces True y se ejecuta la primar función; si no, se revisa la segunda condicional, si se cumple, entonces se ejecuta la segunda función, si no, se revisa la siguiente condicional, y así sucesivamente; si no se cumple ninguna condicional, se ejecuta la última función.\n",
        "\n",
        "### Loops:\n",
        "* *for loops* aplica una función a todos los elementos (o los definidos específicamente en el loop) de un conjunto.\n",
        "* *while loops* aplica una función a todos los elementos, en un orden específico, hasta que se deje de cumplir una condicional especificada en el while loop.\n",
        "\n",
        "### Functions:\n",
        "* *len*: entrega la cantidad total de elementos de un conjunto/lista.\n",
        "* *sum*: entrega la suma de dos o más conjuntos/listas.\n",
        "* *sorted*: te muestra \"copia\" de una lista, pero de forma ordenada (la lista original se mantiene sin modificaciones).\n",
        "* *sort* ordena una lista existente, mas no crea una nueva lista, solo ordena la lista especificada.\n",
        "\n",
        "```\n",
        "def add1(a):\n",
        "    b=a+1\n",
        "    return b\n",
        "```\n",
        "\n",
        "* **def** es un keyword, significa que vamos a definir una función\n",
        "* **add1** es el nombre de la función\n",
        "* **(a)** lo que se encuentra dentro de los paréntesis son los parámetros/argumentos/input, puede haber más de un argumento\n",
        "* **b=a+1** es la operación/code block a ejecutar cuando se llame esta función\n",
        "* **return b** es el resultado de la función\n",
        "\n",
        "### Objects and Classes:\n",
        "Every object has:\n",
        "* a *type*\n",
        "* an internal data representation (a blueprint)\n",
        "* a set of procedures for interacting with the object (*methods*)\n",
        "An object is an instance of a particular *type*\n",
        "\n",
        "A *Class* is a custom-made/defined *type* or data structure, which contains *data attributes* and *methods*. Just as with *types*, there can be many instances or Objects of that custom-defined *Class*.\n",
        "\n",
        "#### Create a Class Circle\n",
        "```\n",
        "class Circle(object):\n",
        "    def __init__(self, radius, color):\n",
        "      self.radius = radius;\n",
        "      self.color = color;\n",
        "```\n",
        "\n",
        "* **Class** es un keyword, significa que vamos a definir una Class\n",
        "* **Circle** es el nombre de la Class\n",
        "* **(object)** siempre colocamos (object), es el Class parent\n",
        "\n",
        "* **def __init__(self, argumento1, argumento2)** siempre se coloca esto para definir los argumentos del Class, en donde argumento1 y argumento2 son los argumentos que queremos crear/asignarle al Class\n",
        "* **self.radius = radius** es un ejemplo de cómo creamos el argumento *radius* en el Class Circle\n",
        "\n",
        "#### Create an Object/instance of Class Circle\n",
        "```\n",
        "RedCircle = Circle( 10, 'red' ):\n",
        "```\n",
        "\n",
        "* **RedCircle** es el nombre del Object/instance\n",
        "* **Circle** es el constructor, de tipo Class Circle \n",
        "* **10** es el valor del argumento radius\n",
        "* **''red'** es el valor del argumento color\n"
      ]
    }
  ],
  "metadata": {
    "colab": {
      "include_colab_link": true,
      "provenance": []
    },
    "kernelspec": {
      "display_name": "Python 3",
      "name": "python3"
    },
    "language_info": {
      "name": "python"
    }
  },
  "nbformat": 4,
  "nbformat_minor": 0
}
