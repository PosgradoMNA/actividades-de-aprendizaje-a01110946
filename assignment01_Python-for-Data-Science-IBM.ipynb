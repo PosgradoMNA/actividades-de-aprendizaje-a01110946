{
  "cells": [
    {
      "cell_type": "markdown",
      "metadata": {
        "colab_type": "text",
        "id": "view-in-github"
      },
      "source": [
        "<a href=\"https://colab.research.google.com/github/PosgradoMNA/actividades-de-aprendizaje-a01110946/blob/main/assignment01_Python-for-Data-Science-IBM.ipynb\" target=\"_parent\"><img src=\"https://colab.research.google.com/assets/colab-badge.svg\" alt=\"Open In Colab\"/></a>"
      ]
    },
    {
      "cell_type": "code",
      "execution_count": 4,
      "metadata": {
        "colab": {
          "base_uri": "https://localhost:8080/"
        },
        "id": "LzUSMM79NR9P",
        "outputId": "0e6cb421-1096-426a-b31a-f61d059def81"
      },
      "outputs": [
        {
          "name": "stdout",
          "output_type": "stream",
          "text": [
            "assignment01_Python-for-Data-Science-IBM for a01110946 and edited in VS Code, and 22\n"
          ]
        }
      ],
      "source": [
        "print('assignment01_Python-for-Data-Science-IBM for a01110946 and edited in VS Code, and 22')"
      ]
    },
    {
      "cell_type": "markdown",
      "metadata": {
        "id": "md9dN8w6WzRV"
      },
      "source": [
        "# **Actividad de semana 1 - 2: Python for Data Science (IBM)**\n",
        "---\n",
        "# Apuntes\n",
        "#### Estos son los apuntes que tomé de los primeros tres módulos del curso de Python for Data Sciece (IBM).\n",
        "---"
      ]
    },
    {
      "cell_type": "markdown",
      "metadata": {
        "id": "qmTwL3YuYvU6"
      },
      "source": [
        "## Module 1: Python Basics\n",
        "\n"
      ]
    },
    {
      "cell_type": "code",
      "execution_count": null,
      "metadata": {},
      "outputs": [],
      "source": [
        "print(\"Hello Python 101\")\n",
        "\n",
        "# Es una buena práctica agregar comentarios a tu código para que sea más fácil de leer y entender. Esto lo hacemos agregando (#) antes de un comentario."
      ]
    },
    {
      "cell_type": "code",
      "execution_count": null,
      "metadata": {},
      "outputs": [],
      "source": [
        "#un error de sintaxis es cuando no seguimos las reglas de programación del lenguaje de Python, imprimirá un error de consola; por ej:\n",
        "frint(\"Hello Python 101\")"
      ]
    },
    {
      "cell_type": "markdown",
      "metadata": {},
      "source": [
        "![](image.png)\n",
        "![](20220926135821.png)  \n",
        "markdown paste"
      ]
    },
    {
      "cell_type": "markdown",
      "metadata": {},
      "source": [
        "### Types:\n",
        "*   `int` = Integers\n",
        "*   `float` = Float\n",
        "*   `str` = String\n",
        "*   `bool` = Boolean || True (1) && False (0)\n",
        "\n",
        "### String Operations:\n",
        "Indexing[#], el # dentro de [] significa el orden del caracter dentro de la palabra. 0 representa el primer dígito, y si el número es negativo, entonces empezamos de atrás hacia adelante, en donde [-1] es el último caracter del string.\n",
        "\n",
        "Algunos methods importantes:\n",
        "*   `str.upper()`\n",
        "*   `str.replace()`\n",
        "*   `str.find()`\n",
        "*   `str.len()`"
      ]
    },
    {
      "cell_type": "markdown",
      "metadata": {
        "id": "FaYrf7NUZYEc"
      },
      "source": [
        "# Module 2: Python Data Structures\n",
        "\n",
        "### Lists:\n",
        "Son similares a los Array. Pueden tener elementos repetidos, tienen un órden específico y son mutable. Se representan con [].\n",
        "\n",
        "### Tuples:\n",
        "Similares a Lists, pero son immutable. Se representan con ().\n",
        "\n",
        "### Sets:\n",
        "Similar a los diagramas de Venn. Union, Intersection, Difference. Solo tienen elementos únicos, no repetidos; pero sus elementos no tienen orden específico, también son mutable. Se representan con {}.\n",
        "\n",
        "### Dictionaries:\n",
        "`key:value` pair. Son similares a los JSON en estructura/sintxis, también son mutable. Se representan con {}."
      ]
    },
    {
      "cell_type": "markdown",
      "metadata": {
        "id": "P_UOOi4RbD4E"
      },
      "source": [
        "# Module 3: Python Programming Fundamentals\n",
        "\n",
        "### Conditions and branching:\n",
        "* *Menor que* (<)\n",
        "* *Menor o igual que* (<=)\n",
        "* *Mayor que* (>)\n",
        "* *Mayor o igual que* (>=)\n",
        "* *Igual a* (==)\n",
        "* *No es igual a* (!=)\n",
        "* *OR* (||) Si cualquiera de los elementos comparados es True, el resultado será * True; solo cuando ambos/todos son False, el resultado será False. \n",
        "* *AND* (&&) Si cualquiera de los elementos comparados es False, el resultado será False; solo cuando ambos/todos son True, el resultado será True.\n",
        "* *if/else* si la primera condicional se cumple, entonces True y se ejecuta la primera función; si no, se ejecuta la segunda función.\n",
        "* *elif* si la primera condicional se cumple, entonces True y se ejecuta la primar función; si no, se revisa la segunda condicional, si se cumple, entonces se ejecuta la segunda función, si no, se revisa la siguiente condicional, y así sucesivamente; si no se cumple ninguna condicional, se ejecuta la última función.\n",
        "\n",
        "### Loops:\n",
        "* *for loops* aplica una función a todos los elementos (o los definidos específicamente en el loop) de un conjunto.\n",
        "* *while loops* aplica una función a todos los elementos, en un orden específico, hasta que se deje de cumplir una condicional especificada en el while loop.\n",
        "\n",
        "### Functions:\n",
        "* *len*: entrega la cantidad total de elementos de un conjunto/lista.\n",
        "* *sum*: entrega la suma de dos o más conjuntos/listas.\n",
        "* *sorted*: te muestra \"copia\" de una lista, pero de forma ordenada (la lista original se mantiene sin modificaciones).\n",
        "* *sort* ordena una lista existente, mas no crea una nueva lista, solo ordena la lista especificada.\n",
        "\n",
        "```\n",
        "def add1(a):\n",
        "    b=a+1\n",
        "    return b\n",
        "```\n",
        "\n",
        "* **def** es un keyword, significa que vamos a definir una función\n",
        "* **add1** es el nombre de la función\n",
        "* **(a)** lo que se encuentra dentro de los paréntesis son los parámetros/argumentos/input, puede haber más de un argumento\n",
        "* **b=a+1** es la operación/code block a ejecutar cuando se llame esta función\n",
        "* **return b** es el resultado de la función\n",
        "\n",
        "### Objects and Classes:\n",
        "Every object has:\n",
        "* a *type*\n",
        "* an internal data representation (a blueprint)\n",
        "* a set of procedures for interacting with the object (*methods*)\n",
        "An object is an instance of a particular *type*\n",
        "\n",
        "A *Class* is a custom-made/defined *type* or data structure, which contains *data attributes* and *methods*. Just as with *types*, there can be many instances or Objects of that custom-defined *Class*.\n",
        "\n",
        "#### Create a Class Circle\n",
        "```\n",
        "class Circle(object):\n",
        "    def __init__(self, radius, color):\n",
        "      self.radius = radius;\n",
        "      self.color = color;\n",
        "```\n",
        "\n",
        "* **Class** es un keyword, significa que vamos a definir una Class\n",
        "* **Circle** es el nombre de la Class\n",
        "* **(object)** siempre colocamos (object), es el Class parent\n",
        "\n",
        "* **def __init__(self, argumento1, argumento2)** siempre se coloca esto para definir los argumentos del Class, en donde argumento1 y argumento2 son los argumentos que queremos crear/asignarle al Class\n",
        "* **self.radius = radius** es un ejemplo de cómo creamos el argumento *radius* en el Class Circle\n",
        "\n",
        "#### Create an Object/instance of Class Circle\n",
        "```\n",
        "RedCircle = Circle( 10, 'red' ):\n",
        "```\n",
        "\n",
        "* **RedCircle** es el nombre del Object/instance\n",
        "* **Circle** es el constructor, de tipo Class Circle \n",
        "* **10** es el valor del argumento radius\n",
        "* **''red'** es el valor del argumento color\n"
      ]
    },
    {
      "cell_type": "markdown",
      "metadata": {},
      "source": [
        "# Module 4: Python Programming Fundamentals\n",
        "\n",
        "### Reading Files with Open:\n",
        "* `File1 = open(\"/documents/file_with_data.csv\", \"w\")`\n",
        "    * File1 es el objecto del archivo, se le puede asignar cualquier nombre deseado\n",
        "    * *open* abre un archivo\n",
        "    * el primer argumento es el path del archivo\n",
        "    * el segundo argumento es el modo de apertura, tiene dos opciones: \"w\" o \"r\", donde \"w\" significa write y \"r\" significa read\n",
        "\n",
        "* `File1.readlines()`\n",
        "* `file_lines = File1.readlines()`\n",
        "    * readlines extrae la primera línea del archivo\n",
        "    * se pueden extraer caracteres especificando el número de caractéres como argumento de readlines, ej:  `File1.readlines[3]` extraerá los primeros 3 caracteres\n",
        "    * se pueden extraer dierentes líneas del archivo con indexing, ejemplo:  `file_lines[3]`\n",
        "\n",
        "### Writing Files with Open:\n",
        "* File1.write(\"Hello world!\")\n",
        "    * el método `write` escribe al archivo especificado en el objeto\n",
        "    * Se puede utilizar un `for loop` que escribe los contenidos de una lista a un archivo, por ej:\n",
        "            `List = [ \"Line1\", \"Line2\", \"Line3\" ]`\n",
        "                `for line in List`\n",
        "                `File1.write(line)`\n",
        "    * es importante utilizar el argumento \"a\" de append, para agregar cada elemento como una nueva lista en el mismo archivo, y no crear un archivo nuevo\n",
        "\n",
        "### Loading Data with Pandas:\n",
        "* **pandas** es una librería de Python muy popular para análisis de datos, para utilizar sus funciones, primero se requiere importar la librería utilizando `import pandas`, se tiene como convención darle el alias *pd* (`import pandas as pd`)\n",
        "* Se utiliza comúnmente para trabajar con \"tablas\", o datos típicamente encontrados en hojas de cálculo\n",
        "* uno de los **types** principales de pandas son los **DataFrames** (`df`), que se componen de filas y columnas, como una tabla\n",
        "* Se puede utilizar el método *.head* para visualizar las primeras cinco filas de un DataFrame\n",
        "* Se puede convertir un dictionary en un DataFrame utilizando `pd.DataFrame(nombre_del_dict)`, en donde los **keys** del dict corresponden a las **columnas**, y los *values* del dict corresponden a las **filas**\n",
        "* Se puede utilizar indexing, especificando el nombre de una columna, para crear un nuevo DataFrame con una subsección de otro DataFrame, ej:\n",
        "        `housing_df = df[['total_houses', 'house_price_value', 'total_bedrooms', 'mean_house_size', 'mean_house_price_value']]`\n",
        "* Para acceder a un elemento (piensa en una celda de Excel) se puede utilizar el método `.ix` (`df.ix`), seguido de indexing, utilizando un par de números enteros en donde el primer valor se refiere al número de fila, y el segundo valor al número de columna (como si fuera un sistema de coordenadas X,Y); ej: `df.ix[3,2]` en donde accederemos al elemento en la cuarta fila (porque la primera fila utiliza el número 0) de la tercera columna (porque la primera columna utiliza el número 0). Taambién se puede utilizar el nombre de la columna en el segundo argumento; ej: `df.ix[3, 'house_price_value']`\n",
        "* Se puede crear una subtabla del dataframe original utilizando indexing; ej: `new_df = df.ix[0:2, 0:3]* o *new_df = df.ix[0:2, 'total_houses':'total_bedrooms']`\n",
        "\n",
        "### Working with and Saving Data with Pandas:\n",
        "* El método `unique` ayuda a encontar los valores únicos dentro de una columna de un DataFrame; ej: `housing_df['total_bedrooms'].unique()`\n",
        "* También podemos filtrar un DataFrame seleccionando solamente las filas que cumplan con una condición en cierta columna utilizando condicionales booleanas, y asignando a un nuevo DataFrame; por ej: `affordable_housing_df = df[[housing_df['mean_house_price']<=50000*]`\n",
        "* Podemos guardar el nuevo DataFrame a un nuevo archivo externo utilizando *.to_csv()*, y especificando el nombre del archivo como argumento; ej: `affordable_housing_df.to_csv('affordable_housing_data.csv')` \n"
      ]
    },
    {
      "cell_type": "markdown",
      "metadata": {},
      "source": [
        "---\n",
        "---"
      ]
    }
  ],
  "metadata": {
    "colab": {
      "include_colab_link": true,
      "provenance": []
    },
    "kernelspec": {
      "display_name": "Python 3.10.7 64-bit",
      "language": "python",
      "name": "python3"
    },
    "language_info": {
      "codemirror_mode": {
        "name": "ipython",
        "version": 3
      },
      "file_extension": ".py",
      "mimetype": "text/x-python",
      "name": "python",
      "nbconvert_exporter": "python",
      "pygments_lexer": "ipython3",
      "version": "3.10.7"
    },
    "vscode": {
      "interpreter": {
        "hash": "1cbadf7e30f156f4e0b68f4bca81fa70237e67691d6ebe573bb449e31d409fb8"
      }
    }
  },
  "nbformat": 4,
  "nbformat_minor": 0
}
