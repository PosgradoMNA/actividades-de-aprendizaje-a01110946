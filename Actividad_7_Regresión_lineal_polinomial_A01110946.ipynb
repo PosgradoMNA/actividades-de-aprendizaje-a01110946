{
  "nbformat": 4,
  "nbformat_minor": 0,
  "metadata": {
    "colab": {
      "provenance": [],
      "collapsed_sections": [],
      "include_colab_link": true
    },
    "kernelspec": {
      "name": "python3",
      "display_name": "Python 3"
    },
    "language_info": {
      "name": "python"
    }
  },
  "cells": [
    {
      "cell_type": "markdown",
      "metadata": {
        "id": "view-in-github",
        "colab_type": "text"
      },
      "source": [
        "<a href=\"https://colab.research.google.com/github/PosgradoMNA/actividades-de-aprendizaje-a01110946/blob/main/Actividad_7_Regresi%C3%B3n_lineal_polinomial_A01110946.ipynb\" target=\"_parent\"><img src=\"https://colab.research.google.com/assets/colab-badge.svg\" alt=\"Open In Colab\"/></a>"
      ]
    },
    {
      "cell_type": "markdown",
      "source": [
        "# Presentación"
      ],
      "metadata": {
        "id": "nDA0NUEK2QVd"
      }
    },
    {
      "cell_type": "markdown",
      "source": [
        "# Maestría en Inteligencia Artificial Aplicada\n",
        "## Ciencia y analítica de datos\n",
        "## Actividad Semanal 7 -- Regresión lineal polinomial\n",
        "#### Tecnológico de Monterrey\n",
        "#### Prof. María De La Paz Rico\n",
        "\n",
        "#### Tutor: Roberto Antonio Guevara González\n",
        "\n",
        "#### Alumno: Fernando Maytorena Espinosa de los Monteros | A01110946\n",
        "\n",
        "#### Martes 09 de noviembre de 2022"
      ],
      "metadata": {
        "id": "iKZC5hgh2U74"
      }
    },
    {
      "cell_type": "markdown",
      "source": [
        "## **Ejercicio 1 - Regresión lineal**\n",
        "\n",
        "Utiliza la base de datos de https://www.kaggle.com/vinicius150987/manufacturing-cost\n",
        "\n",
        "Suponga que trabaja como consultor de una empresa de nueva creación que busca desarrollar un modelo para estimar el costo de los bienes vendidos a medida que varían el volumen de producción (número de unidades producidas). La startup recopiló datos y le pidió que desarrollara un modelo para predecir su costo frente a la cantidad de unidades vendidas."
      ],
      "metadata": {
        "id": "zVI07ZpP28ol"
      }
    },
    {
      "cell_type": "code",
      "source": [
        "import numpy as np\n",
        "%matplotlib inline\n",
        "import matplotlib\n",
        "import matplotlib.pyplot as plt\n",
        "import pandas as pd\n",
        "import seaborn as sns\n",
        "from sklearn.linear_model import LinearRegression, Lasso, Ridge\n",
        "from sklearn.preprocessing import PolynomialFeatures\n",
        "from sklearn.metrics import mean_squared_error, mean_absolute_error, mean_absolute_percentage_error,  r2_score, make_scorer\n",
        "from sklearn.model_selection import train_test_split, GridSearchCV, train_test_split, RepeatedKFold, cross_validate"
      ],
      "metadata": {
        "id": "7ylYsdYkOUWS"
      },
      "execution_count": null,
      "outputs": []
    },
    {
      "cell_type": "code",
      "execution_count": null,
      "metadata": {
        "colab": {
          "base_uri": "https://localhost:8080/",
          "height": 363
        },
        "id": "6D8BmLKS17Hp",
        "outputId": "4b9bcd66-2902-4446-feab-673ae6d7fc3f"
      },
      "outputs": [
        {
          "output_type": "execute_result",
          "data": {
            "text/plain": [
              "     Number of Units  Manufacturing Cost\n",
              "530         4.537264           35.512017\n",
              "395         4.121183           36.560335\n",
              "515         4.490305           45.263989\n",
              "729         5.264154           35.939491\n",
              "419         4.200602           29.119848\n",
              "185         3.264346           48.176167\n",
              "973         7.169644           25.311833\n",
              "638         4.969887           26.890247\n",
              "928         6.409838           24.795743\n",
              "984         7.584513           27.709089"
            ],
            "text/html": [
              "\n",
              "  <div id=\"df-d1fa8a24-430b-4376-a65d-1693f731bef7\">\n",
              "    <div class=\"colab-df-container\">\n",
              "      <div>\n",
              "<style scoped>\n",
              "    .dataframe tbody tr th:only-of-type {\n",
              "        vertical-align: middle;\n",
              "    }\n",
              "\n",
              "    .dataframe tbody tr th {\n",
              "        vertical-align: top;\n",
              "    }\n",
              "\n",
              "    .dataframe thead th {\n",
              "        text-align: right;\n",
              "    }\n",
              "</style>\n",
              "<table border=\"1\" class=\"dataframe\">\n",
              "  <thead>\n",
              "    <tr style=\"text-align: right;\">\n",
              "      <th></th>\n",
              "      <th>Number of Units</th>\n",
              "      <th>Manufacturing Cost</th>\n",
              "    </tr>\n",
              "  </thead>\n",
              "  <tbody>\n",
              "    <tr>\n",
              "      <th>530</th>\n",
              "      <td>4.537264</td>\n",
              "      <td>35.512017</td>\n",
              "    </tr>\n",
              "    <tr>\n",
              "      <th>395</th>\n",
              "      <td>4.121183</td>\n",
              "      <td>36.560335</td>\n",
              "    </tr>\n",
              "    <tr>\n",
              "      <th>515</th>\n",
              "      <td>4.490305</td>\n",
              "      <td>45.263989</td>\n",
              "    </tr>\n",
              "    <tr>\n",
              "      <th>729</th>\n",
              "      <td>5.264154</td>\n",
              "      <td>35.939491</td>\n",
              "    </tr>\n",
              "    <tr>\n",
              "      <th>419</th>\n",
              "      <td>4.200602</td>\n",
              "      <td>29.119848</td>\n",
              "    </tr>\n",
              "    <tr>\n",
              "      <th>185</th>\n",
              "      <td>3.264346</td>\n",
              "      <td>48.176167</td>\n",
              "    </tr>\n",
              "    <tr>\n",
              "      <th>973</th>\n",
              "      <td>7.169644</td>\n",
              "      <td>25.311833</td>\n",
              "    </tr>\n",
              "    <tr>\n",
              "      <th>638</th>\n",
              "      <td>4.969887</td>\n",
              "      <td>26.890247</td>\n",
              "    </tr>\n",
              "    <tr>\n",
              "      <th>928</th>\n",
              "      <td>6.409838</td>\n",
              "      <td>24.795743</td>\n",
              "    </tr>\n",
              "    <tr>\n",
              "      <th>984</th>\n",
              "      <td>7.584513</td>\n",
              "      <td>27.709089</td>\n",
              "    </tr>\n",
              "  </tbody>\n",
              "</table>\n",
              "</div>\n",
              "      <button class=\"colab-df-convert\" onclick=\"convertToInteractive('df-d1fa8a24-430b-4376-a65d-1693f731bef7')\"\n",
              "              title=\"Convert this dataframe to an interactive table.\"\n",
              "              style=\"display:none;\">\n",
              "        \n",
              "  <svg xmlns=\"http://www.w3.org/2000/svg\" height=\"24px\"viewBox=\"0 0 24 24\"\n",
              "       width=\"24px\">\n",
              "    <path d=\"M0 0h24v24H0V0z\" fill=\"none\"/>\n",
              "    <path d=\"M18.56 5.44l.94 2.06.94-2.06 2.06-.94-2.06-.94-.94-2.06-.94 2.06-2.06.94zm-11 1L8.5 8.5l.94-2.06 2.06-.94-2.06-.94L8.5 2.5l-.94 2.06-2.06.94zm10 10l.94 2.06.94-2.06 2.06-.94-2.06-.94-.94-2.06-.94 2.06-2.06.94z\"/><path d=\"M17.41 7.96l-1.37-1.37c-.4-.4-.92-.59-1.43-.59-.52 0-1.04.2-1.43.59L10.3 9.45l-7.72 7.72c-.78.78-.78 2.05 0 2.83L4 21.41c.39.39.9.59 1.41.59.51 0 1.02-.2 1.41-.59l7.78-7.78 2.81-2.81c.8-.78.8-2.07 0-2.86zM5.41 20L4 18.59l7.72-7.72 1.47 1.35L5.41 20z\"/>\n",
              "  </svg>\n",
              "      </button>\n",
              "      \n",
              "  <style>\n",
              "    .colab-df-container {\n",
              "      display:flex;\n",
              "      flex-wrap:wrap;\n",
              "      gap: 12px;\n",
              "    }\n",
              "\n",
              "    .colab-df-convert {\n",
              "      background-color: #E8F0FE;\n",
              "      border: none;\n",
              "      border-radius: 50%;\n",
              "      cursor: pointer;\n",
              "      display: none;\n",
              "      fill: #1967D2;\n",
              "      height: 32px;\n",
              "      padding: 0 0 0 0;\n",
              "      width: 32px;\n",
              "    }\n",
              "\n",
              "    .colab-df-convert:hover {\n",
              "      background-color: #E2EBFA;\n",
              "      box-shadow: 0px 1px 2px rgba(60, 64, 67, 0.3), 0px 1px 3px 1px rgba(60, 64, 67, 0.15);\n",
              "      fill: #174EA6;\n",
              "    }\n",
              "\n",
              "    [theme=dark] .colab-df-convert {\n",
              "      background-color: #3B4455;\n",
              "      fill: #D2E3FC;\n",
              "    }\n",
              "\n",
              "    [theme=dark] .colab-df-convert:hover {\n",
              "      background-color: #434B5C;\n",
              "      box-shadow: 0px 1px 3px 1px rgba(0, 0, 0, 0.15);\n",
              "      filter: drop-shadow(0px 1px 2px rgba(0, 0, 0, 0.3));\n",
              "      fill: #FFFFFF;\n",
              "    }\n",
              "  </style>\n",
              "\n",
              "      <script>\n",
              "        const buttonEl =\n",
              "          document.querySelector('#df-d1fa8a24-430b-4376-a65d-1693f731bef7 button.colab-df-convert');\n",
              "        buttonEl.style.display =\n",
              "          google.colab.kernel.accessAllowed ? 'block' : 'none';\n",
              "\n",
              "        async function convertToInteractive(key) {\n",
              "          const element = document.querySelector('#df-d1fa8a24-430b-4376-a65d-1693f731bef7');\n",
              "          const dataTable =\n",
              "            await google.colab.kernel.invokeFunction('convertToInteractive',\n",
              "                                                     [key], {});\n",
              "          if (!dataTable) return;\n",
              "\n",
              "          const docLinkHtml = 'Like what you see? Visit the ' +\n",
              "            '<a target=\"_blank\" href=https://colab.research.google.com/notebooks/data_table.ipynb>data table notebook</a>'\n",
              "            + ' to learn more about interactive tables.';\n",
              "          element.innerHTML = '';\n",
              "          dataTable['output_type'] = 'display_data';\n",
              "          await google.colab.output.renderOutput(dataTable, element);\n",
              "          const docLink = document.createElement('div');\n",
              "          docLink.innerHTML = docLinkHtml;\n",
              "          element.appendChild(docLink);\n",
              "        }\n",
              "      </script>\n",
              "    </div>\n",
              "  </div>\n",
              "  "
            ]
          },
          "metadata": {},
          "execution_count": 144
        }
      ],
      "source": [
        "df = pd.read_csv('https://raw.githubusercontent.com/marypazrf/bdd/main/EconomiesOfScale.csv')\n",
        "df.sample(10)"
      ]
    },
    {
      "cell_type": "code",
      "source": [
        "df.info"
      ],
      "metadata": {
        "colab": {
          "base_uri": "https://localhost:8080/"
        },
        "id": "9XfGUrVQOtaI",
        "outputId": "487d826c-bc14-43b5-b7c6-d86ef3d38170"
      },
      "execution_count": null,
      "outputs": [
        {
          "output_type": "execute_result",
          "data": {
            "text/plain": [
              "<bound method DataFrame.info of      Number of Units  Manufacturing Cost\n",
              "0           1.000000           95.066056\n",
              "1           1.185994           96.531750\n",
              "2           1.191499           73.661311\n",
              "3           1.204771           95.566843\n",
              "4           1.298773           98.777013\n",
              "..               ...                 ...\n",
              "995         8.099710           23.855067\n",
              "996         8.739752           27.536542\n",
              "997         8.780888           25.973787\n",
              "998         8.897700           25.138311\n",
              "999        10.000000           21.547777\n",
              "\n",
              "[1000 rows x 2 columns]>"
            ]
          },
          "metadata": {},
          "execution_count": 145
        }
      ]
    },
    {
      "cell_type": "code",
      "source": [
        "X = df[['Number of Units']]\n",
        "y = df[['Manufacturing Cost']]"
      ],
      "metadata": {
        "id": "5uZQ_m3v3B_m"
      },
      "execution_count": null,
      "outputs": []
    },
    {
      "cell_type": "code",
      "source": [
        "# Revisamos la distribución de los datos\n",
        "plt.plot(X,y,'b.')"
      ],
      "metadata": {
        "colab": {
          "base_uri": "https://localhost:8080/",
          "height": 283
        },
        "id": "GxAbSgLb3s4l",
        "outputId": "c73a8c87-2400-4515-9d4b-02238ae59d9e"
      },
      "execution_count": null,
      "outputs": [
        {
          "output_type": "execute_result",
          "data": {
            "text/plain": [
              "[<matplotlib.lines.Line2D at 0x7f23095fd950>]"
            ]
          },
          "metadata": {},
          "execution_count": 147
        },
        {
          "output_type": "display_data",
          "data": {
            "text/plain": [
              "<Figure size 432x288 with 1 Axes>"
            ],
            "image/png": "[encoded data removed]"
          },
          "metadata": {
            "needs_background": "light"
          }
        }
      ]
    },
    {
      "cell_type": "markdown",
      "source": [
        "#### **1. Divide los datos del costo de manufactura.**"
      ],
      "metadata": {
        "id": "iA0obAhi4QhW"
      }
    },
    {
      "cell_type": "code",
      "source": [
        "# Dividimos nuestra base de datos en conjunto de entrenamiento (90%) y conjunto de prueba (10%)\n",
        "X_train, X_test, y_train, y_test = train_test_split(X, y, test_size = 0.1, random_state = 42)\n"
      ],
      "metadata": {
        "id": "z35yTlkG4NWS"
      },
      "execution_count": null,
      "outputs": []
    },
    {
      "cell_type": "code",
      "source": [
        "# Revisamos la forma de la base de datos después de la partición\n",
        "print('El conjunto de entrenamiento para las variables de entrada tiene una forma de:', X_train.shape)\n",
        "print('El conjunto de entrenamiento para las variables de salida tiene una forma de:', X_test.shape)\n",
        "print('El conjunto de prueba para las variables de entrada tiene una forma de:', y_train.shape)\n",
        "print('El conjunto de prueba para las variables de salida tiene una forma de:', y_test.shape)"
      ],
      "metadata": {
        "colab": {
          "base_uri": "https://localhost:8080/"
        },
        "id": "KyCqRN5s4zdr",
        "outputId": "deafa9bc-3804-4416-9be6-b328ddcf3dbf"
      },
      "execution_count": null,
      "outputs": [
        {
          "output_type": "stream",
          "name": "stdout",
          "text": [
            "El conjunto de entrenamiento para las variables de entrada tiene una forma de: (900, 1)\n",
            "El conjunto de entrenamiento para las variables de salida tiene una forma de: (100, 1)\n",
            "El conjunto de prueba para las variables de entrada tiene una forma de: (900, 1)\n",
            "El conjunto de prueba para las variables de salida tiene una forma de: (100, 1)\n"
          ]
        }
      ]
    },
    {
      "cell_type": "markdown",
      "source": [
        "#### **2. Regresión Lineal** - Realiza la regresión lineal: modelo generado (ecuación), su visualización, sus errores y r cuadrada."
      ],
      "metadata": {
        "id": "wYMVdV0m5SN7"
      }
    },
    {
      "cell_type": "markdown",
      "source": [
        "##### Modelo"
      ],
      "metadata": {
        "id": "yVFrNcVTroGI"
      }
    },
    {
      "cell_type": "code",
      "source": [
        "# Preparamos y ajustamos el modelo de regresión lineal\n",
        "LR = LinearRegression(fit_intercept=True)\n",
        "LR.fit(X_train, y_train)\n",
        "\n",
        "X_LR = X_train\n",
        "y_LR = LR.predict(X_LR)"
      ],
      "metadata": {
        "id": "vshWC-y744ra"
      },
      "execution_count": null,
      "outputs": []
    },
    {
      "cell_type": "markdown",
      "source": [
        "##### Ecuación"
      ],
      "metadata": {
        "id": "DNrsBWQCrwe2"
      }
    },
    {
      "cell_type": "code",
      "source": [
        "# Ecuación del modelo de regresión lineal\n",
        "print(f'y = {LR.coef_[0][0]}*X + {LR.intercept_[0]}')"
      ],
      "metadata": {
        "colab": {
          "base_uri": "https://localhost:8080/"
        },
        "id": "2Qg8iW8u6sak",
        "outputId": "f57cd5db-7f57-41b9-e4b0-76a50415b9e0"
      },
      "execution_count": null,
      "outputs": [
        {
          "output_type": "stream",
          "name": "stdout",
          "text": [
            "y = -6.033572762971054*X + 67.03883293539208\n"
          ]
        }
      ]
    },
    {
      "cell_type": "markdown",
      "source": [
        "La ecuación del modelo de regresión lineal queda de la siguiente forma:\n",
        "$\\hat{y} = -6.03X + 67.03$"
      ],
      "metadata": {
        "id": "tK1xoF_X8VWe"
      }
    },
    {
      "cell_type": "markdown",
      "source": [
        "##### Visualización"
      ],
      "metadata": {
        "id": "TNq39dcDrz1L"
      }
    },
    {
      "cell_type": "code",
      "source": [
        "# Visualizamos los datos utilizando una gráfica de dispersión\n",
        "plt.scatter(X_train, y_train)\n",
        "plt.plot(X_LR, y_LR, 'r-', linewidth=2, label='Predicción')\n",
        "plt.xlabel(\"$X$\", fontsize=16)\n",
        "plt.ylabel(\"$y$\", rotation=0, fontsize=16)\n",
        "plt.legend(loc=\"upper left\", fontsize=12);\n",
        "plt.title(label = 'Regresión Lineal')\n",
        "plt.axis([0, 10, 0, 90]);"
      ],
      "metadata": {
        "colab": {
          "base_uri": "https://localhost:8080/",
          "height": 301
        },
        "id": "YPN6dujfrvIO",
        "outputId": "25f3e20d-549d-44ad-f199-35a2c808a7f5"
      },
      "execution_count": null,
      "outputs": [
        {
          "output_type": "display_data",
          "data": {
            "text/plain": [
              "<Figure size 432x288 with 1 Axes>"
            ],
            "image/png": "[encoded data removed]"
          },
          "metadata": {
            "needs_background": "light"
          }
        }
      ]
    },
    {
      "cell_type": "markdown",
      "source": [
        "##### Errores y r<sup>2</sup>"
      ],
      "metadata": {
        "id": "82B28dI2r57V"
      }
    },
    {
      "cell_type": "code",
      "source": [
        "# Creamos listas vacías para alojar los resultados de las´métricas MAE, RMSE y R2\n",
        "MAE_list = []\n",
        "RMSE_list = []\n",
        "R2_list = []\n",
        "\n",
        "# Calculamos el valor de los errores MAE, RMSE y R2\n",
        "MAE_LR = mean_absolute_error(y_train, y_LR)\n",
        "RMSE_LR = mean_squared_error(y_train, y_LR, squared=False)\n",
        "R2_LR = r2_score(y_train, y_LR)\n",
        "\n",
        "# Agregamos los resultados a nuestras listas vacías\n",
        "MAE_list.append(MAE_LR) \n",
        "RMSE_list.append(RMSE_LR)\n",
        "R2_list.append(R2_LR)\n",
        "\n",
        "# Imprimimos los resultados de los errores\n",
        "print('El Error Medio Absoluto (MAE) del modelo de regresión es:', MAE_LR)\n",
        "print('La Raíz del Error Medio Cuatrático (RMSE) del modelo de regresión es:', RMSE_LR)\n",
        "print('El R2 score del modelo de regresión es:', R2_LR)"
      ],
      "metadata": {
        "colab": {
          "base_uri": "https://localhost:8080/"
        },
        "id": "fZ4jm7HDQ0-2",
        "outputId": "5de1e99d-b344-41ae-c970-a88857f353c5"
      },
      "execution_count": null,
      "outputs": [
        {
          "output_type": "stream",
          "name": "stdout",
          "text": [
            "El Error Medio Absoluto (MAE) del modelo de regresión es: 4.9589799031460275\n",
            "La Raíz del Error Medio Cuatrático (RMSE) del modelo de regresión es: 6.978468118118778\n",
            "El R2 score del modelo de regresión es: 0.571711162274217\n"
          ]
        }
      ]
    },
    {
      "cell_type": "markdown",
      "source": [
        "#### **3. Regresión Polinomial** - Realiza la regresión polinomial: modelo generado (ecuación), su visualización, sus errores y r cuadrada."
      ],
      "metadata": {
        "id": "8o15advK-t8j"
      }
    },
    {
      "cell_type": "markdown",
      "source": [
        "##### Modelo"
      ],
      "metadata": {
        "id": "7VYs9siGsSfu"
      }
    },
    {
      "cell_type": "code",
      "source": [
        "# Preparamos y ajustamos el modelo de regresión polinomial\n",
        "PR = PolynomialFeatures(degree=2, include_bias=False)\n",
        "PR_X_train = PR.fit_transform(X_train)\n",
        "PRmodel = LinearRegression(fit_intercept=True)\n",
        "PRmodel.fit(PR_X_train, y_train)"
      ],
      "metadata": {
        "colab": {
          "base_uri": "https://localhost:8080/"
        },
        "id": "SK-Bl38nEVvW",
        "outputId": "0b1c159c-cd19-476f-dda3-502bf3b4cc31"
      },
      "execution_count": null,
      "outputs": [
        {
          "output_type": "execute_result",
          "data": {
            "text/plain": [
              "LinearRegression()"
            ]
          },
          "metadata": {},
          "execution_count": 154
        }
      ]
    },
    {
      "cell_type": "code",
      "source": [
        "# Continuamos con el conjunto de prueba, ajustamos los datos y revisamos su forma\n",
        "PR_X_test = PR.fit_transform(X_test)\n",
        "PR_y_predict = PRmodel.predict(PR_X_test)\n",
        "print(PR_X_test.shape)\n",
        "print(PR_y_predict.shape)"
      ],
      "metadata": {
        "colab": {
          "base_uri": "https://localhost:8080/"
        },
        "id": "wyD5Z-afsh3W",
        "outputId": "8c353914-c2c4-454d-f4b0-3cdd349434dd"
      },
      "execution_count": null,
      "outputs": [
        {
          "output_type": "stream",
          "name": "stdout",
          "text": [
            "(100, 2)\n",
            "(100, 1)\n"
          ]
        }
      ]
    },
    {
      "cell_type": "markdown",
      "source": [
        "##### Ecuación"
      ],
      "metadata": {
        "id": "i5clGxpzsUFV"
      }
    },
    {
      "cell_type": "code",
      "source": [
        "#Ecuación del modelo\n",
        "print(f'y = {PRmodel.coef_[0,1]}*X^2 {PRmodel.coef_[0,0]}*X + {PRmodel.intercept_[0]}')"
      ],
      "metadata": {
        "colab": {
          "base_uri": "https://localhost:8080/"
        },
        "id": "Qy6xCHRsBNRh",
        "outputId": "a087f504-f89d-4e4a-f334-4a2da5bfbcdd"
      },
      "execution_count": null,
      "outputs": [
        {
          "output_type": "stream",
          "name": "stdout",
          "text": [
            "y = 1.1885215375112932*X^2 -16.951471748619337*X + 89.97388061400437\n"
          ]
        }
      ]
    },
    {
      "cell_type": "markdown",
      "source": [
        "La ecuación del modelo polinomial queda de la siguiente forma:\n",
        "\n",
        "$\\hat{y} =  1.18X^2 - 16.95X + 89.97$"
      ],
      "metadata": {
        "id": "_aQYyXFOXci3"
      }
    },
    {
      "cell_type": "markdown",
      "source": [
        "##### Visualización"
      ],
      "metadata": {
        "id": "0R5SRqIhsWnN"
      }
    },
    {
      "cell_type": "code",
      "source": [
        "#Ordenamos los datos (paso necesario para la visualización)\n",
        "order = np.argsort(X_test.values.ravel())\n",
        "order_X = X_test.values.ravel()[order] \n",
        "order_y = y_test.values.ravel()[order]\n",
        "order_PR_y_predict = PR_y_predict[order]\n",
        "\n",
        "# Visualizamos los datos utilizando una gráfica de dispersión\n",
        "plt.scatter(X_test, y_test)\n",
        "plt.plot(order_X, order_PR_y_predict, 'r-', linewidth=2, label='Predicciones')\n",
        "plt.xlabel(\"$X$\", fontsize=16)\n",
        "plt.ylabel(\"$y$\", rotation=0, fontsize=16)\n",
        "plt.legend(loc=\"upper left\", fontsize=12);\n",
        "plt.title(label = 'Regresión Polinomial Test')\n",
        "plt.axis([0, 10, 0, 90]);"
      ],
      "metadata": {
        "colab": {
          "base_uri": "https://localhost:8080/",
          "height": 301
        },
        "id": "cuuhE4E09FMg",
        "outputId": "9ff2f999-4084-4bcf-f869-872a8082f1fa"
      },
      "execution_count": null,
      "outputs": [
        {
          "output_type": "display_data",
          "data": {
            "text/plain": [
              "<Figure size 432x288 with 1 Axes>"
            ],
            "image/png": "[encoded data removed]"
          },
          "metadata": {
            "needs_background": "light"
          }
        }
      ]
    },
    {
      "cell_type": "markdown",
      "source": [
        "##### Errores y r<sup>2</sup>"
      ],
      "metadata": {
        "id": "pRgU7R6usmSK"
      }
    },
    {
      "cell_type": "code",
      "source": [
        "# Creamos listas vacías para alojar los resultados de las´métricas MAE, RMSE y R2\n",
        "#MAE_list = []\n",
        "#RMSE_list = []\n",
        "#R2_list = []\n",
        "\n",
        "# Calculamos el valor de los errores MAE, RMSE y R2\n",
        "MAE_PR = mean_absolute_error(y_test, PR_y_predict)\n",
        "RMSE_PR = mean_squared_error(y_test, PR_y_predict, squared=False)\n",
        "R2_PR = r2_score(y_test, PR_y_predict)\n",
        "\n",
        "# Agregamos los resultados a nuestras listas vacías\n",
        "MAE_list.append(MAE_PR) \n",
        "RMSE_list.append(RMSE_PR)\n",
        "R2_list.append(R2_PR)\n",
        "\n",
        "# Imprimimos los resultados de los errores\n",
        "print('El Error Medio Absoluto (MAE) del modelo de regresión es:', MAE_PR)\n",
        "print('La Raíz del Error Medio Cuatrático (RMSE) del modelo de regresión es:', RMSE_PR)\n",
        "print('El R2 score del modelo de regresión es:', R2_PR)"
      ],
      "metadata": {
        "colab": {
          "base_uri": "https://localhost:8080/"
        },
        "id": "z8e3PNgjuBTN",
        "outputId": "498cc05a-1d69-4bbc-fb77-99452e62822d"
      },
      "execution_count": null,
      "outputs": [
        {
          "output_type": "stream",
          "name": "stdout",
          "text": [
            "El Error Medio Absoluto (MAE) del modelo de regresión es: 4.070921827959767\n",
            "La Raíz del Error Medio Cuatrático (RMSE) del modelo de regresión es: 5.101935770152972\n",
            "El R2 score del modelo de regresión es: 0.7345357864097419\n"
          ]
        }
      ]
    },
    {
      "cell_type": "markdown",
      "source": [
        "#### **4a. Regresión con Ridge** - Incluye la ecuación de tu modelo, visualización , errores y r cuadrada."
      ],
      "metadata": {
        "id": "IjDYdyC6HoCC"
      }
    },
    {
      "cell_type": "markdown",
      "source": [
        "#### Modelo"
      ],
      "metadata": {
        "id": "hUPydLSYu5PY"
      }
    },
    {
      "cell_type": "code",
      "source": [
        "# Preparamos y ajustamos el modelo de regresión con Ridge\n",
        "Ridgemodel = Ridge(alpha=5.0, fit_intercept=True)\n",
        "Ridgemodel.fit(X_train, y_train)\n",
        "\n",
        "X_ridge = X_test\n",
        "y_ridge = Ridgemodel.predict(X_ridge)"
      ],
      "metadata": {
        "id": "5TCudw2KHZpK"
      },
      "execution_count": null,
      "outputs": []
    },
    {
      "cell_type": "markdown",
      "source": [
        "##### Ecuación"
      ],
      "metadata": {
        "id": "31y76LyJv_l6"
      }
    },
    {
      "cell_type": "code",
      "source": [
        "#Ecuación del modelo\n",
        "print(f'y = {Ridgemodel.coef_[0,0]}*X + {Ridgemodel.intercept_[0]}')"
      ],
      "metadata": {
        "colab": {
          "base_uri": "https://localhost:8080/"
        },
        "id": "5Hc54cO4wCUE",
        "outputId": "91429fa4-f0ef-4235-871f-c25ca49c284e"
      },
      "execution_count": null,
      "outputs": [
        {
          "output_type": "stream",
          "name": "stdout",
          "text": [
            "y = -6.014859823996596*X + 66.95504593256987\n"
          ]
        }
      ]
    },
    {
      "cell_type": "markdown",
      "source": [
        "La ecuación del modelo de regresión Ridge queda de la siguiente forma:\n",
        "\n",
        "$\\hat{y} =  -6.01X + 66.95$"
      ],
      "metadata": {
        "id": "87Gzzc8nwXin"
      }
    },
    {
      "cell_type": "markdown",
      "source": [
        "##### Visualización"
      ],
      "metadata": {
        "id": "Vl3uTa8Dv8fa"
      }
    },
    {
      "cell_type": "code",
      "source": [
        "# Visualizamos los datos utilizando una gráfica de dispersión\n",
        "plt.scatter(X_test, y_test)\n",
        "plt.plot(X_ridge, y_ridge, 'r-', linewidth=2, label='Predicción')\n",
        "plt.xlabel(\"$X$\", fontsize=16)\n",
        "plt.ylabel(\"$y$\", rotation=0, fontsize=16)\n",
        "plt.legend(loc=\"upper left\", fontsize=12);\n",
        "plt.title(label = 'Regresión Ridge')\n",
        "plt.axis([0, 10, 0, 90]);"
      ],
      "metadata": {
        "colab": {
          "base_uri": "https://localhost:8080/",
          "height": 301
        },
        "id": "-pyZwfG4vDP1",
        "outputId": "157c0aa4-5854-4519-e256-004e477f361f"
      },
      "execution_count": null,
      "outputs": [
        {
          "output_type": "display_data",
          "data": {
            "text/plain": [
              "<Figure size 432x288 with 1 Axes>"
            ],
            "image/png": "[encoded data removed]"
          },
          "metadata": {
            "needs_background": "light"
          }
        }
      ]
    },
    {
      "cell_type": "markdown",
      "source": [
        "##### Erroresy r<sup>2</sup>"
      ],
      "metadata": {
        "id": "5V1JcRs5wltK"
      }
    },
    {
      "cell_type": "code",
      "source": [
        "# Creamos listas vacías para alojar los resultados de las´métricas MAE, RMSE y R2\n",
        "#MAE_list = []\n",
        "#RMSE_list = []\n",
        "#R2_list = []\n",
        "\n",
        "# Calculamos el valor de los errores MAE, RMSE y R2\n",
        "MAE_Ridge = mean_absolute_error(y_test, y_ridge)\n",
        "RMSE_Ridge = mean_squared_error(y_test, y_ridge, squared=False)\n",
        "R2_Ridge = r2_score(y_test, y_ridge)\n",
        "\n",
        "# Agregamos los resultados a nuestras listas vacías\n",
        "MAE_list.append(MAE_Ridge) \n",
        "RMSE_list.append(RMSE_Ridge)\n",
        "R2_list.append(R2_Ridge)\n",
        "\n",
        "# Imprimimos los resultados de los errores\n",
        "print('El Error Medio Absoluto (MAE) del modelo de regresión es:', MAE_Ridge)\n",
        "print('La Raíz del Error Medio Cuatrático (RMSE) del modelo de regresión es:', RMSE_Ridge)\n",
        "print('El R2 score del modelo de regresión es:', R2_Ridge)"
      ],
      "metadata": {
        "colab": {
          "base_uri": "https://localhost:8080/"
        },
        "id": "n64rMAnvwuZx",
        "outputId": "77583004-a9a6-4a54-f87d-5c752a5808bc"
      },
      "execution_count": null,
      "outputs": [
        {
          "output_type": "stream",
          "name": "stdout",
          "text": [
            "El Error Medio Absoluto (MAE) del modelo de regresión es: 4.582378313036828\n",
            "La Raíz del Error Medio Cuatrático (RMSE) del modelo de regresión es: 5.820732664728692\n",
            "El R2 score del modelo de regresión es: 0.6544655791836619\n"
          ]
        }
      ]
    },
    {
      "cell_type": "markdown",
      "source": [
        "#### **4b. Regresión con Lasso** - Incluye la ecuación de tu modelo, visualización , errores y r cuadrada."
      ],
      "metadata": {
        "id": "Ql8VtgfdNyFu"
      }
    },
    {
      "cell_type": "code",
      "source": [
        "# Preparamos y ajustamos el modelo de regresión con Lasso\n",
        "Lassomodel = Lasso(alpha=4.5, fit_intercept=True)\n",
        "Lassomodel.fit(X_train, y_train)\n",
        "X_Lasso = X_test\n",
        "y_Lasso = Lassomodel.predict(X_Lasso)"
      ],
      "metadata": {
        "id": "Cvb-K-WNOmBV"
      },
      "execution_count": null,
      "outputs": []
    },
    {
      "cell_type": "markdown",
      "source": [
        "##### Ecuación"
      ],
      "metadata": {
        "id": "LVJ5TuFL7cnZ"
      }
    },
    {
      "cell_type": "code",
      "source": [
        "#Ecuación del modelo\n",
        "print(f'y = {Lassomodel.coef_[0]}*X + {Lassomodel.intercept_[0]}')"
      ],
      "metadata": {
        "colab": {
          "base_uri": "https://localhost:8080/"
        },
        "id": "53O8aYwG7eiA",
        "outputId": "eba9e25d-3a14-4e33-8798-dce05bc1a7bf"
      },
      "execution_count": null,
      "outputs": [
        {
          "output_type": "stream",
          "name": "stdout",
          "text": [
            "y = -3.513567141420818*X + 55.7555321982398\n"
          ]
        }
      ]
    },
    {
      "cell_type": "markdown",
      "source": [
        "La ecuación del modelo de regresión Lasso queda de la siguiente forma:\n",
        "\n",
        "$\\hat{y} =  -3.51X + 55.75$"
      ],
      "metadata": {
        "id": "GTP1ASaQ7mv8"
      }
    },
    {
      "cell_type": "markdown",
      "source": [
        "##### Visualización"
      ],
      "metadata": {
        "id": "lXxySFAX7toV"
      }
    },
    {
      "cell_type": "code",
      "source": [
        "#Gráfico de dispersión (Scatter) para ver la distribución de los datos de prueba\n",
        "plt.scatter(X_test, y_test)\n",
        "plt.plot(X_Lasso, y_Lasso, 'r-', linewidth=2, label='Predicción')\n",
        "plt.xlabel(\"$X$\", fontsize=16)\n",
        "plt.ylabel(\"$y$\", rotation=0, fontsize=16)\n",
        "plt.legend(loc=\"upper left\", fontsize=12);\n",
        "plt.title(label = 'Regresión Lasso')\n",
        "plt.axis([0, 10, 0, 90]);"
      ],
      "metadata": {
        "colab": {
          "base_uri": "https://localhost:8080/",
          "height": 301
        },
        "id": "NxxPvyMb7WQJ",
        "outputId": "acb6eb60-7813-48e5-85ee-740c6e11fb37"
      },
      "execution_count": null,
      "outputs": [
        {
          "output_type": "display_data",
          "data": {
            "text/plain": [
              "<Figure size 432x288 with 1 Axes>"
            ],
            "image/png": "[encoded data removed]"
          },
          "metadata": {
            "needs_background": "light"
          }
        }
      ]
    },
    {
      "cell_type": "markdown",
      "source": [
        "##### Errores y r<sup>2</sup>"
      ],
      "metadata": {
        "id": "dHLWRAEe74qU"
      }
    },
    {
      "cell_type": "code",
      "source": [
        "# Creamos listas vacías para alojar los resultados de las´métricas MAE, RMSE y R2\n",
        "#MAE_list = []\n",
        "#RMSE_list = []\n",
        "#R2_list = []\n",
        "\n",
        "# Calculamos el valor de los errores MAE, RMSE y R2\n",
        "MAE_Lasso = mean_absolute_error(y_test, y_Lasso)\n",
        "RMSE_Lasso = mean_squared_error(y_test, y_Lasso, squared=False)\n",
        "R2_Lasso = r2_score(y_test, y_Lasso)\n",
        "\n",
        "# Agregamos los resultados a nuestras listas vacías\n",
        "MAE_list.append(MAE_Lasso) \n",
        "RMSE_list.append(RMSE_Lasso)\n",
        "R2_list.append(R2_Lasso)\n",
        "\n",
        "# Imprimimos los resultados de los errores\n",
        "print('El Error Medio Absoluto (MAE) del modelo de regresión es:', MAE_Lasso)\n",
        "print('La Raíz del Error Medio Cuatrático (RMSE) del modelo de regresión es:', RMSE_Lasso)\n",
        "print('El R2 score del modelo de regresión es:', R2_Lasso)"
      ],
      "metadata": {
        "colab": {
          "base_uri": "https://localhost:8080/"
        },
        "id": "i3bGnIKN7-cn",
        "outputId": "434fc482-bb34-4778-fb59-84a861e5805d"
      },
      "execution_count": null,
      "outputs": [
        {
          "output_type": "stream",
          "name": "stdout",
          "text": [
            "El Error Medio Absoluto (MAE) del modelo de regresión es: 5.03960379111882\n",
            "La Raíz del Error Medio Cuatrático (RMSE) del modelo de regresión es: 6.714133530059934\n",
            "El R2 score del modelo de regresión es: 0.5402561184408167\n"
          ]
        }
      ]
    },
    {
      "cell_type": "markdown",
      "source": [
        "#### **5. Grafica MAE y R<sup>2</sup>**"
      ],
      "metadata": {
        "id": "EiDkfQLkakrB"
      }
    },
    {
      "cell_type": "code",
      "source": [
        "# Primero, imprimimos las listas con resultados de los errores y r2 de los cuatro modelos\n",
        "print(MAE_list)\n",
        "print(RMSE_list)\n",
        "print(R2_list)"
      ],
      "metadata": {
        "colab": {
          "base_uri": "https://localhost:8080/"
        },
        "id": "DTM9JSolQoN8",
        "outputId": "0816b052-96be-459b-89a0-b1973892e17a"
      },
      "execution_count": null,
      "outputs": [
        {
          "output_type": "stream",
          "name": "stdout",
          "text": [
            "[4.9589799031460275, 4.070921827959767, 4.582378313036828, 5.03960379111882]\n",
            "[6.978468118118778, 5.101935770152972, 5.820732664728692, 6.714133530059934]\n",
            "[0.571711162274217, 0.7345357864097419, 0.6544655791836619, 0.5402561184408167]\n"
          ]
        }
      ]
    },
    {
      "cell_type": "code",
      "source": [
        "# Graficamos el Error Medio Absoluto de los cuatro modelos\n",
        "plt.bar(['R. Lineal', 'R. Polinomial', 'R. Ridge', 'R. Lasso'], MAE_list, color='b')\n",
        "plt.show()"
      ],
      "metadata": {
        "colab": {
          "base_uri": "https://localhost:8080/",
          "height": 265
        },
        "id": "mqKXtXQFQ0Sm",
        "outputId": "da9f53a6-7320-4a84-82a0-5c347fd235e5"
      },
      "execution_count": null,
      "outputs": [
        {
          "output_type": "display_data",
          "data": {
            "text/plain": [
              "<Figure size 432x288 with 1 Axes>"
            ],
            "image/png": "[encoded data removed]"
          },
          "metadata": {
            "needs_background": "light"
          }
        }
      ]
    },
    {
      "cell_type": "code",
      "source": [
        "# Graficamos la Raíz del Error Medio Cuadrático de los cuatro modelos\n",
        "plt.bar(['R. Lineal', 'R. Polinomial', 'R. Ridge', 'R. Lasso'], RMSE_list, color='g')\n",
        "plt.show()"
      ],
      "metadata": {
        "colab": {
          "base_uri": "https://localhost:8080/",
          "height": 265
        },
        "id": "Dr4ZYF2YDiDD",
        "outputId": "71b40b2e-1d25-4660-83bd-936fca01e7f8"
      },
      "execution_count": null,
      "outputs": [
        {
          "output_type": "display_data",
          "data": {
            "text/plain": [
              "<Figure size 432x288 with 1 Axes>"
            ],
            "image/png": "[encoded data removed]"
          },
          "metadata": {
            "needs_background": "light"
          }
        }
      ]
    },
    {
      "cell_type": "code",
      "source": [
        "# Graficamos el score de R^2 de los cuatro modelos\n",
        "plt.bar(['R. Lineal', 'R. Polinomial', 'R. Ridge', 'R. Lasso'], R2_list, color='r')\n",
        "plt.show()"
      ],
      "metadata": {
        "colab": {
          "base_uri": "https://localhost:8080/",
          "height": 265
        },
        "id": "CKvt07AzQ7S5",
        "outputId": "968e971b-3ed0-4dd8-f4ce-238d6705df87"
      },
      "execution_count": null,
      "outputs": [
        {
          "output_type": "display_data",
          "data": {
            "text/plain": [
              "<Figure size 432x288 with 1 Axes>"
            ],
            "image/png": "[encoded data removed]"
          },
          "metadata": {
            "needs_background": "light"
          }
        }
      ]
    },
    {
      "cell_type": "markdown",
      "source": [
        "#### **6. Conclusiones:** Explica tus resultados, que método conviene más a la empresa, ¿por que?, ¿que porcentajes de entrenamiento y evaluación usaste?, ¿que error tienes?, ¿es bueno?, ¿cómo lo sabes?"
      ],
      "metadata": {
        "id": "4zsJ3hsfEAwW"
      }
    },
    {
      "cell_type": "markdown",
      "source": [
        "Para responder las preguntas sobre qué modelo se desempeña mejor, primero debemos entender el objetivo de las métricas de desempeño que utilizamos para evaluar los diferentes modelos de regresión lineal que hemos utilizado.\n",
        "\n",
        ">El Error Absoluto Medio (**MAE**) nos muestra el promedio de la diferencia entre los valores reales y predichos en el conjunto de datos, en números absolutos para facilitar su interpretación. Dicho de otra manera, mide el promedio de los residuos en el conjunto de datos que analiza el modelo de regresión. Mientras más bajo sea el Error Absoluto Medio, mejor es el desempeño del modelo que estamos evaluando.\n",
        "\n",
        ">La Raíz del Error Cuadrático Medio (**RMSE**) mide la desviación estándar de los residuos en el conjunto de datos que analiza el modelo de regresión. Mientras más bajo sea el Error Absoluto Medio, mejor es el desempeño del modelo que estamos evaluando.\n",
        "\n",
        ">El score de la R-cuadrada (**R<sup>2</sup>**) representa la proporción de la varianza en la variable dependiente (o de salida) que es explicada por el modelo de regresión lineal. El score de la R-cuadrada siempre será menor a uno; y, a diferencia de MAE y RMSE, mientras mayor sea el score de la R-cuadrada, mejor es el desempeño del modelo que estamos evaluando.\n",
        "\n",
        "Una vez que tenemos claro cómo interpretar las métricas de desempeño, revisamos que el modelo con el menor Error Absoluto Medio (**MAE**) es el modelo de regresión polinomial, con un error de **4.07**, y a su vez, este modelo también presenta el la menor Raíz del Error Cuadrático Medio (**RMSE**) con un error de **5.10**. Por último, el mismo modelo de regresión polinomial nos muestra el mayor score de la R-cuadrada, con un score de **0.73**. Por lo tanto, después de analizar las métricas de desempeño, es fácil concluir que el modelo óptimo para la empresa de manufactura sería el de **regresión polinomial**.\n",
        "\n",
        "Decidí partir la base de datos en un conjunto de entrenamiento de **90%**, y un conjunto de prueba de **10%**, lo anterior con la intención de tener el mayor número de datos en el conjunto de entrenamiento para evitar tenerun modelo subentrenado, entendiendo que la cantidad de registros de la base de datos no es tan elevada.\n",
        "\n",
        "El desempeño del modelo es relativamente bueno considerando que no se llevó a cabo un proceso de transformación, y de búsqueda de los mejores hiperparámetros. Por ejemplo, en el modelo de regresión polinomial, corrimos el modelo con grado 2, sin embargo, podríamos buscar mejorar el desempeño del modelo corriendo el modelo con un grado distinto. En conclusión, el modelo es bueno, pero tiene margen de mejorar."
      ],
      "metadata": {
        "id": "RcwZoLU2H0lK"
      }
    },
    {
      "cell_type": "markdown",
      "source": [
        "> EL método que mejores resultados está presentando es el de **Regresión Polinomial**. Debido a que este tiene un índice más alto de R2 **(0.7586)**, esto se ve reflejado en el gráfico, donde podemos visualizar cómo los datos presentan una ligera curva, la ventaja de utilizar la Regresión Polinomial es que va aplicando estas curvas a nuestra  predicción, pudiendo obtener valores más similares entre la predicción y el test. Por otro lado, el MAE, no nos indica mas que el punto donde se concentra una mayor cantidad de valores.\n",
        "\n",
        "> Usé un porcentaje de entrenaiento de **80%** y de prueba de **20%**, busqué distribuir de esta forma los datos para tener un alto número de entrenamiento y poder evaluar con una considerable muestra de los datos.\n",
        "\n",
        ">Tenemos dos errores. Los cuales nos representan que el mayor conjunto de datos se presenta en los valores cercanos al 122015, esto con base a los valores presentados en nuestra única feature representada con la variable X. Ambos son errores similares, es donde se concentra la mayor cantidad de muestras.\n",
        "* Error medio Absoluto (MAE): 122015.80006144893\n",
        "* Root Mean Squared Error (RMSE): 181470.06574727758\n",
        "* r2_score 0.7586232413126757\n",
        "\n",
        ">No es malo, ni bueno. Simplemente nos presenta un panorama de dónde estamos teniendo una mayor concentración de datos, por lo tanto, considerar esta parte para el modelo y para los distintos conjuntos de datos que se llegarían a testear."
      ],
      "metadata": {
        "id": "ucI7KG4vdzl_"
      }
    },
    {
      "cell_type": "markdown",
      "source": [
        "---"
      ],
      "metadata": {
        "id": "OTCy4vMwVmd1"
      }
    }
  ]
}