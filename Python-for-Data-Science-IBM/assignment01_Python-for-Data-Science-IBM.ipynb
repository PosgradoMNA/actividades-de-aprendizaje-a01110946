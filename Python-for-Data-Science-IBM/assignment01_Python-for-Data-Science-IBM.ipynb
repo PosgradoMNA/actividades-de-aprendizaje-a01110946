{
  "cells": [
    {
      "cell_type": "markdown",
      "metadata": {
        "colab_type": "text",
        "id": "view-in-github"
      },
      "source": [
        "<a href=\"https://colab.research.google.com/github/PosgradoMNA/actividades-de-aprendizaje-a01110946/blob/main/assignment01_Python-for-Data-Science-IBM.ipynb\" target=\"_parent\"><img src=\"https://colab.research.google.com/assets/colab-badge.svg\" alt=\"Open In Colab\"/></a>"
      ]
    },
    {
      "cell_type": "code",
      "execution_count": 213,
      "metadata": {
        "colab": {
          "base_uri": "https://localhost:8080/"
        },
        "id": "LzUSMM79NR9P",
        "outputId": "0e6cb421-1096-426a-b31a-f61d059def81"
      },
      "outputs": [
        {
          "name": "stdout",
          "output_type": "stream",
          "text": [
            "assignment01_Python-for-Data-Science-IBM for a01110946 and edited in VS Code, and 22\n"
          ]
        }
      ],
      "source": [
        "print('assignment01_Python-for-Data-Science-IBM for a01110946 and edited in VS Code, and 22')"
      ]
    },
    {
      "cell_type": "markdown",
      "metadata": {
        "id": "md9dN8w6WzRV"
      },
      "source": [
        "# **Actividad de semana 1 - 2: Python for Data Science (IBM)**\n",
        "---\n",
        "# Apuntes\n",
        "#### Estos son los apuntes que tomé de los primeros tres módulos del curso de Python for Data Sciece (IBM).\n",
        "---"
      ]
    },
    {
      "cell_type": "markdown",
      "metadata": {
        "id": "qmTwL3YuYvU6"
      },
      "source": [
        "## Module 1: Python Basics\n",
        "\n"
      ]
    },
    {
      "cell_type": "markdown",
      "metadata": {},
      "source": [
        "### Your First Program"
      ]
    },
    {
      "cell_type": "code",
      "execution_count": 214,
      "metadata": {},
      "outputs": [
        {
          "name": "stdout",
          "output_type": "stream",
          "text": [
            "Hello Python 101\n"
          ]
        }
      ],
      "source": [
        "print(\"Hello Python 101\")\n",
        "\n",
        "# Es una buena práctica agregar comentarios a tu código para que sea más fácil de leer y entender. Esto lo hacemos agregando (#) antes de un comentario."
      ]
    },
    {
      "cell_type": "code",
      "execution_count": 215,
      "metadata": {},
      "outputs": [],
      "source": [
        "#un error de sintaxis es cuando no seguimos las reglas de programación del lenguaje de Python, imprimirá un error de consola; por ej:\n",
        "#frint(\"Hello Python 101\")"
      ]
    },
    {
      "cell_type": "markdown",
      "metadata": {},
      "source": [
        "### Types:\n",
        "*   `int` = Integers\n",
        "*   `float` = Float\n",
        "*   `str` = String\n",
        "*   `bool` = Boolean || True (1) && False (0)"
      ]
    },
    {
      "cell_type": "code",
      "execution_count": 216,
      "metadata": {},
      "outputs": [
        {
          "name": "stdout",
          "output_type": "stream",
          "text": [
            "<class 'int'> <class 'float'> <class 'str'>\n"
          ]
        }
      ],
      "source": [
        "a = type(11)\n",
        "b = type(21.213)\n",
        "c = type(\"Hello Python 101\")\n",
        "print(a, b, c)"
      ]
    },
    {
      "cell_type": "code",
      "execution_count": 217,
      "metadata": {},
      "outputs": [
        {
          "data": {
            "text/plain": [
              "2.0"
            ]
          },
          "execution_count": 217,
          "metadata": {},
          "output_type": "execute_result"
        }
      ],
      "source": [
        "float(2)\n"
      ]
    },
    {
      "cell_type": "code",
      "execution_count": 218,
      "metadata": {},
      "outputs": [
        {
          "data": {
            "text/plain": [
              "1"
            ]
          },
          "execution_count": 218,
          "metadata": {},
          "output_type": "execute_result"
        }
      ],
      "source": [
        "int(1.1)"
      ]
    },
    {
      "cell_type": "code",
      "execution_count": 219,
      "metadata": {},
      "outputs": [
        {
          "data": {
            "text/plain": [
              "1"
            ]
          },
          "execution_count": 219,
          "metadata": {},
          "output_type": "execute_result"
        }
      ],
      "source": [
        "\n",
        "int('1')"
      ]
    },
    {
      "cell_type": "code",
      "execution_count": 220,
      "metadata": {},
      "outputs": [],
      "source": [
        "# no se puede utilizar typecasting para convertir un string a un número si el string no es un número\n",
        "# int('A')"
      ]
    },
    {
      "cell_type": "code",
      "execution_count": 221,
      "metadata": {},
      "outputs": [
        {
          "data": {
            "text/plain": [
              "bool"
            ]
          },
          "execution_count": 221,
          "metadata": {},
          "output_type": "execute_result"
        }
      ],
      "source": [
        "type(True)"
      ]
    },
    {
      "cell_type": "code",
      "execution_count": 222,
      "metadata": {},
      "outputs": [
        {
          "data": {
            "text/plain": [
              "1"
            ]
          },
          "execution_count": 222,
          "metadata": {},
          "output_type": "execute_result"
        }
      ],
      "source": [
        "int(True)"
      ]
    },
    {
      "cell_type": "code",
      "execution_count": 223,
      "metadata": {},
      "outputs": [
        {
          "data": {
            "text/plain": [
              "0"
            ]
          },
          "execution_count": 223,
          "metadata": {},
          "output_type": "execute_result"
        }
      ],
      "source": [
        "int(False)"
      ]
    },
    {
      "cell_type": "code",
      "execution_count": 224,
      "metadata": {},
      "outputs": [
        {
          "data": {
            "text/plain": [
              "True"
            ]
          },
          "execution_count": 224,
          "metadata": {},
          "output_type": "execute_result"
        }
      ],
      "source": [
        "bool(1)"
      ]
    },
    {
      "cell_type": "code",
      "execution_count": 225,
      "metadata": {},
      "outputs": [
        {
          "data": {
            "text/plain": [
              "False"
            ]
          },
          "execution_count": 225,
          "metadata": {},
          "output_type": "execute_result"
        }
      ],
      "source": [
        "bool(0)"
      ]
    },
    {
      "cell_type": "markdown",
      "metadata": {},
      "source": [
        "### Expressions and Variables"
      ]
    },
    {
      "cell_type": "code",
      "execution_count": 226,
      "metadata": {},
      "outputs": [
        {
          "data": {
            "text/plain": [
              "151"
            ]
          },
          "execution_count": 226,
          "metadata": {},
          "output_type": "execute_result"
        }
      ],
      "source": [
        "#34, 60, 16 y 41 son operands; mientaas que los (+) son los operators\n",
        "34 + 60 + 16 + 41"
      ]
    },
    {
      "cell_type": "code",
      "execution_count": 227,
      "metadata": {},
      "outputs": [
        {
          "name": "stdout",
          "output_type": "stream",
          "text": [
            "10\n"
          ]
        }
      ],
      "source": [
        "my_variable=1\n",
        "my_variable:1\n",
        "my_variable=10\n",
        "my_variable:10\n",
        "print(my_variable)"
      ]
    },
    {
      "cell_type": "markdown",
      "metadata": {},
      "source": [
        "### String Operations:\n",
        "Indexing[#], el # dentro de [] significa el orden del caracter dentro de la palabra. 0 representa el primer dígito, y si el número es negativo, entonces empezamos de atrás hacia adelante, en donde [-1] es el último caracter del string.\n",
        "\n",
        "Algunos methods importantes:\n",
        "*   `str.upper()`\n",
        "*   `str.replace()`\n",
        "*   `str.find()`\n",
        "*   `str.len()`"
      ]
    },
    {
      "cell_type": "code",
      "execution_count": 228,
      "metadata": {},
      "outputs": [
        {
          "data": {
            "text/plain": [
              "'Mc'"
            ]
          },
          "execution_count": 228,
          "metadata": {},
          "output_type": "execute_result"
        }
      ],
      "source": [
        "Name = 'Michael Jackson'\n",
        "Name[0]+Name[-5]"
      ]
    },
    {
      "cell_type": "code",
      "execution_count": 229,
      "metadata": {},
      "outputs": [
        {
          "data": {
            "text/plain": [
              "'Michael Jackson'"
            ]
          },
          "execution_count": 229,
          "metadata": {},
          "output_type": "execute_result"
        }
      ],
      "source": [
        "Name = 'Michael Jackson'\n",
        "Name[0:16]"
      ]
    },
    {
      "cell_type": "code",
      "execution_count": 230,
      "metadata": {},
      "outputs": [
        {
          "data": {
            "text/plain": [
              "'My name is Michael Jackson'"
            ]
          },
          "execution_count": 230,
          "metadata": {},
          "output_type": "execute_result"
        }
      ],
      "source": [
        "Name = 'Michael Jackson'\n",
        "'My name is ' + Name[0:16]"
      ]
    },
    {
      "cell_type": "code",
      "execution_count": 231,
      "metadata": {},
      "outputs": [
        {
          "name": "stdout",
          "output_type": "stream",
          "text": [
            "My name is Michael\n",
            "I am a singer\n"
          ]
        }
      ],
      "source": [
        "Name = 'Michael Jackson'\n",
        "print('My name is '+Name[0:7]+'\\nI am a singer')"
      ]
    },
    {
      "cell_type": "code",
      "execution_count": 232,
      "metadata": {},
      "outputs": [
        {
          "name": "stdout",
          "output_type": "stream",
          "text": [
            "MY NAME IS MICHAEL\n",
            "I AM A SINGER\n"
          ]
        }
      ],
      "source": [
        "Name = 'Michael Jackson'\n",
        "Present = 'My name is '+Name[0:7]+'\\nI am a singer'\n",
        "print(Present.upper())"
      ]
    },
    {
      "cell_type": "markdown",
      "metadata": {},
      "source": [
        "---\n",
        "# Module 2: Python Data Structures"
      ]
    },
    {
      "cell_type": "markdown",
      "metadata": {},
      "source": [
        "### Lists and Tuples"
      ]
    },
    {
      "cell_type": "markdown",
      "metadata": {},
      "source": [
        "#### Lists:\n",
        "Son similares a los Array. Pueden tener elementos repetidos, tienen un órden específico y son mutable. Se representan con [].\n",
        "\n",
        "#### Tuples:\n",
        "Similares a Lists, pero son immutable. Se representan con ()."
      ]
    },
    {
      "cell_type": "code",
      "execution_count": 233,
      "metadata": {
        "id": "FaYrf7NUZYEc"
      },
      "outputs": [
        {
          "data": {
            "text/plain": [
              "10"
            ]
          },
          "execution_count": 233,
          "metadata": {},
          "output_type": "execute_result"
        }
      ],
      "source": [
        "Tuple1 = (\"disco\", 10, 1.2)\n",
        "Tuple1[-2]"
      ]
    },
    {
      "cell_type": "code",
      "execution_count": 234,
      "metadata": {},
      "outputs": [
        {
          "data": {
            "text/plain": [
              "('disco', 10, 1.2, 'hard rock', 10)"
            ]
          },
          "execution_count": 234,
          "metadata": {},
          "output_type": "execute_result"
        }
      ],
      "source": [
        "Tuple1 = (\"disco\", 10, 1.2)\n",
        "Tuple2 = Tuple1 + (\"hard rock\", 10)\n",
        "Tuple2"
      ]
    },
    {
      "cell_type": "code",
      "execution_count": 235,
      "metadata": {},
      "outputs": [
        {
          "data": {
            "text/plain": [
              "1982"
            ]
          },
          "execution_count": 235,
          "metadata": {},
          "output_type": "execute_result"
        }
      ],
      "source": [
        "List = [\"Michael Jackson\", 10.1, 1982]\n",
        "List[-1]"
      ]
    },
    {
      "cell_type": "code",
      "execution_count": 236,
      "metadata": {},
      "outputs": [
        {
          "data": {
            "text/plain": [
              "['Michael Jackson', 10.1, 1982, ['pop', 20]]"
            ]
          },
          "execution_count": 236,
          "metadata": {},
          "output_type": "execute_result"
        }
      ],
      "source": [
        "List = [\"Michael Jackson\", 10.1, 1982]\n",
        "List.append([\"pop\", 20])\n",
        "List"
      ]
    },
    {
      "cell_type": "markdown",
      "metadata": {},
      "source": [
        "### Sets"
      ]
    },
    {
      "cell_type": "markdown",
      "metadata": {},
      "source": [
        "#### Sets:\n",
        "Similar a los diagramas de Venn. Union, Intersection, Difference. Solo tienen elementos únicos, no repetidos; pero sus elementos no tienen orden específico, también son mutable. Se representan con {}."
      ]
    },
    {
      "cell_type": "code",
      "execution_count": 237,
      "metadata": {},
      "outputs": [
        {
          "data": {
            "text/plain": [
              "{'R&B', 'disco', 'hard rock', 'pop', 'rock', 'soul'}"
            ]
          },
          "execution_count": 237,
          "metadata": {},
          "output_type": "execute_result"
        }
      ],
      "source": [
        "Set1 = {\"pop\", \"rock\", \"soul\", \"hard rock\", \"rock\", \"R&B\", \"rock\", \"disco\"}\n",
        "Set1"
      ]
    },
    {
      "cell_type": "code",
      "execution_count": 238,
      "metadata": {},
      "outputs": [
        {
          "name": "stdout",
          "output_type": "stream",
          "text": [
            "{10.1, 'Michael Jackson', 1982, 'MJ'}\n"
          ]
        }
      ],
      "source": [
        "List = [\"Michael Jackson\", 10.1, 1982, \"MJ\", 10.1]\n",
        "List_to_set = set(List)\n",
        "print(List_to_set)"
      ]
    },
    {
      "cell_type": "code",
      "execution_count": 239,
      "metadata": {},
      "outputs": [
        {
          "name": "stdout",
          "output_type": "stream",
          "text": [
            "{'hard rock', 'disco', 'pop', 'soul', 'Thriller', 'rock', 1979, 'R&B'}\n"
          ]
        }
      ],
      "source": [
        "set2 = {\"disco\", \"Thriller\", 1979}\n",
        "set_union = Set1.union(set2)\n",
        "print(set_union)"
      ]
    },
    {
      "cell_type": "markdown",
      "metadata": {},
      "source": [
        "### Dictionaries"
      ]
    },
    {
      "cell_type": "markdown",
      "metadata": {},
      "source": [
        "#### Dictionaries:\n",
        "`key:value` pair. Son similares a los JSON en estructura/sintxis, también son mutable. Se representan con {}."
      ]
    },
    {
      "cell_type": "code",
      "execution_count": 240,
      "metadata": {},
      "outputs": [
        {
          "data": {
            "text/plain": [
              "{'key1': 1, 'key2': '2', 'key3': [3, 3, 3], 'key4': (4, 4, 4), 'key5': 5}"
            ]
          },
          "execution_count": 240,
          "metadata": {},
          "output_type": "execute_result"
        }
      ],
      "source": [
        "{\"key1\":1,\"key2\":\"2\",\"key3\":[3,3,3],\"key4\":(4,4,4),('key5'):5}"
      ]
    },
    {
      "cell_type": "code",
      "execution_count": 241,
      "metadata": {},
      "outputs": [
        {
          "data": {
            "text/plain": [
              "{'Thriller': '1982',\n",
              " 'Back in Black': '1980',\n",
              " 'The dark side of the moon': '1973',\n",
              " 'The BodyGuard': '1992'}"
            ]
          },
          "execution_count": 241,
          "metadata": {},
          "output_type": "execute_result"
        }
      ],
      "source": [
        "DICT={\"Thriller\":\"1982\",\"Back in Black\": \"1980\",\"The dark side of the moon\":\"1973\",\"The BodyGuard\":\"1992\"}\n",
        "DICT"
      ]
    },
    {
      "cell_type": "code",
      "execution_count": 242,
      "metadata": {},
      "outputs": [
        {
          "data": {
            "text/plain": [
              "'1982'"
            ]
          },
          "execution_count": 242,
          "metadata": {},
          "output_type": "execute_result"
        }
      ],
      "source": [
        "DICT[\"Thriller\"]"
      ]
    },
    {
      "cell_type": "code",
      "execution_count": 243,
      "metadata": {},
      "outputs": [
        {
          "data": {
            "text/plain": [
              "dict_keys(['Thriller', 'Back in Black', 'The dark side of the moon', 'The BodyGuard'])"
            ]
          },
          "execution_count": 243,
          "metadata": {},
          "output_type": "execute_result"
        }
      ],
      "source": [
        "DICT.keys()"
      ]
    },
    {
      "cell_type": "markdown",
      "metadata": {},
      "source": [
        "---\n",
        "# Module 3: Python Programming Fundamentals"
      ]
    },
    {
      "cell_type": "markdown",
      "metadata": {},
      "source": [
        "### Conditions and branching:\n",
        "* *Menor que* (<)\n",
        "* *Menor o igual que* (<=)\n",
        "* *Mayor que* (>)\n",
        "* *Mayor o igual que* (>=)\n",
        "* *Igual a* (==)\n",
        "* *No es igual a* (!=)\n",
        "* *OR* (||) Si cualquiera de los elementos comparados es True, el resultado será * True; solo cuando ambos/todos son False, el resultado será False. \n",
        "* *AND* (&&) Si cualquiera de los elementos comparados es False, el resultado será False; solo cuando ambos/todos son True, el resultado será True.\n",
        "* *if/else* si la primera condicional se cumple, entonces True y se ejecuta la primera función; si no, se ejecuta la segunda función.\n",
        "* *elif* si la primera condicional se cumple, entonces True y se ejecuta la primar función; si no, se revisa la segunda condicional, si se cumple, entonces se ejecuta la segunda función, si no, se revisa la siguiente condicional, y así sucesivamente; si no se cumple ninguna condicional, se ejecuta la última función."
      ]
    },
    {
      "cell_type": "code",
      "execution_count": 244,
      "metadata": {},
      "outputs": [
        {
          "data": {
            "text/plain": [
              "True"
            ]
          },
          "execution_count": 244,
          "metadata": {},
          "output_type": "execute_result"
        }
      ],
      "source": [
        "a=10\n",
        "a==10"
      ]
    },
    {
      "cell_type": "code",
      "execution_count": 245,
      "metadata": {},
      "outputs": [
        {
          "data": {
            "text/plain": [
              "True"
            ]
          },
          "execution_count": 245,
          "metadata": {},
          "output_type": "execute_result"
        }
      ],
      "source": [
        "a>8"
      ]
    },
    {
      "cell_type": "code",
      "execution_count": 246,
      "metadata": {},
      "outputs": [
        {
          "data": {
            "text/plain": [
              "False"
            ]
          },
          "execution_count": 246,
          "metadata": {},
          "output_type": "execute_result"
        }
      ],
      "source": [
        "a<8"
      ]
    },
    {
      "cell_type": "code",
      "execution_count": 247,
      "metadata": {},
      "outputs": [
        {
          "data": {
            "text/plain": [
              "True"
            ]
          },
          "execution_count": 247,
          "metadata": {},
          "output_type": "execute_result"
        }
      ],
      "source": [
        "a>=10"
      ]
    },
    {
      "cell_type": "code",
      "execution_count": 248,
      "metadata": {},
      "outputs": [
        {
          "data": {
            "text/plain": [
              "False"
            ]
          },
          "execution_count": 248,
          "metadata": {},
          "output_type": "execute_result"
        }
      ],
      "source": [
        "a!=10"
      ]
    },
    {
      "cell_type": "code",
      "execution_count": 249,
      "metadata": {},
      "outputs": [
        {
          "name": "stdout",
          "output_type": "stream",
          "text": [
            "go see Pink Floyd\n",
            "move on\n"
          ]
        }
      ],
      "source": [
        "age=18\n",
        "if(age>18):\n",
        "  print(\"you can enter\")\n",
        "elif(age==18):\n",
        "  print(\"go see Pink Floyd\")\n",
        "else:\n",
        "  print(\"go see Meat Loaf\")\n",
        "print(\"move on\")"
      ]
    },
    {
      "cell_type": "markdown",
      "metadata": {},
      "source": [
        "### Loops:\n",
        "* *for loops* aplica una función a todos los elementos (o los definidos específicamente en el loop) de un conjunto.\n",
        "* *while loops* aplica una función a todos los elementos, en un orden específico, hasta que se deje de cumplir una condicional especificada en el while loop."
      ]
    },
    {
      "cell_type": "code",
      "execution_count": 250,
      "metadata": {},
      "outputs": [
        {
          "data": {
            "text/plain": [
              "['white', 'white', 'white', 'white', 'white']"
            ]
          },
          "execution_count": 250,
          "metadata": {},
          "output_type": "execute_result"
        }
      ],
      "source": [
        "squares=[\"red\",\"yellow\",\"green\",\"purple\",\"blue\"]\n",
        "length=len(squares)\n",
        "for i in range(0,length):\n",
        "  squares[i]=\"white\"\n",
        "\n",
        "squares"
      ]
    },
    {
      "cell_type": "code",
      "execution_count": 251,
      "metadata": {},
      "outputs": [
        {
          "name": "stdout",
          "output_type": "stream",
          "text": [
            "red\n",
            "0\n",
            "yellow\n",
            "1\n",
            "green\n",
            "2\n"
          ]
        }
      ],
      "source": [
        "squares=[\"red\",\"yellow\",\"green\"]\n",
        "for i, square in enumerate(squares):\n",
        "  print(square)\n",
        "  print(i)"
      ]
    },
    {
      "cell_type": "code",
      "execution_count": 252,
      "metadata": {},
      "outputs": [
        {
          "data": {
            "text/plain": [
              "['orange', 'orange']"
            ]
          },
          "execution_count": 252,
          "metadata": {},
          "output_type": "execute_result"
        }
      ],
      "source": [
        "squares=[\"orange\",\"orange\",\"yellow\",\"green\"]\n",
        "new_squares=[]\n",
        "i=0\n",
        "while(squares[i]=='orange'):\n",
        "  new_squares.append(squares[i])\n",
        "\n",
        "  i=i+1\n",
        "\n",
        "new_squares"
      ]
    },
    {
      "cell_type": "markdown",
      "metadata": {},
      "source": [
        "### Functions:\n",
        "* *len*: entrega la cantidad total de elementos de un conjunto/lista.\n",
        "* *sum*: entrega la suma de dos o más conjuntos/listas.\n",
        "* *sorted*: te muestra \"copia\" de una lista, pero de forma ordenada (la lista original se mantiene sin modificaciones).\n",
        "* *sort* ordena una lista existente, mas no crea una nueva lista, solo ordena la lista especificada."
      ]
    },
    {
      "cell_type": "code",
      "execution_count": 253,
      "metadata": {},
      "outputs": [],
      "source": [
        "def add1(a):\n",
        "    b=a+1\n",
        "    return b"
      ]
    },
    {
      "cell_type": "code",
      "execution_count": 254,
      "metadata": {},
      "outputs": [
        {
          "data": {
            "text/plain": [
              "6"
            ]
          },
          "execution_count": 254,
          "metadata": {},
          "output_type": "execute_result"
        }
      ],
      "source": [
        "add1(5)"
      ]
    },
    {
      "cell_type": "markdown",
      "metadata": {},
      "source": [
        "* **def** es un keyword, significa que vamos a definir una función\n",
        "* **add1** es el nombre de la función\n",
        "* **(a)** lo que se encuentra dentro de los paréntesis son los parámetros/argumentos/input, puede haber más de un argumento\n",
        "* **b=a+1** es la operación/code block a ejecutar cuando se llame esta función\n",
        "* **return b** es el resultado de la función"
      ]
    },
    {
      "cell_type": "markdown",
      "metadata": {},
      "source": [
        "### Objects and Classes:\n",
        "Every object has:\n",
        "* a *type*\n",
        "* an internal data representation (a blueprint)\n",
        "* a set of procedures for interacting with the object (*methods*)\n",
        "An object is an instance of a particular *type*\n",
        "\n",
        "A *Class* is a custom-made/defined *type* or data structure, which contains *data attributes* and *methods*. Just as with *types*, there can be many instances or Objects of that custom-defined *Class*."
      ]
    },
    {
      "cell_type": "code",
      "execution_count": 255,
      "metadata": {},
      "outputs": [],
      "source": [
        "#Create a Class Circle\n",
        "\n",
        "class Circle(object):\n",
        "    def __init__(self, radius, color):\n",
        "      self.radius = radius;\n",
        "      self.color = color;"
      ]
    },
    {
      "cell_type": "markdown",
      "metadata": {},
      "source": [
        "* **Class** es un keyword, significa que vamos a definir una Class\n",
        "* **Circle** es el nombre de la Class\n",
        "* **(object)** siempre colocamos (object), es el Class parent\n",
        "\n",
        "* **def __init__(self, argumento1, argumento2)** siempre se coloca esto para definir los argumentos del Class, en donde argumento1 y argumento2 son los argumentos que queremos crear/asignarle al Class\n",
        "* **self.radius = radius** es un ejemplo de cómo creamos el argumento *radius* en el Class Circle"
      ]
    },
    {
      "cell_type": "code",
      "execution_count": 256,
      "metadata": {},
      "outputs": [],
      "source": [
        "#### Create an Object/instance of Class Circle\n",
        "RedCircle = Circle( 10, 'red' )"
      ]
    },
    {
      "cell_type": "markdown",
      "metadata": {
        "id": "P_UOOi4RbD4E"
      },
      "source": [
        "\n",
        "* **RedCircle** es el nombre del Object/instance\n",
        "* **Circle** es el constructor, de tipo Class Circle \n",
        "* **10** es el valor del argumento radius\n",
        "* **''red'** es el valor del argumento color"
      ]
    },
    {
      "cell_type": "markdown",
      "metadata": {},
      "source": [
        "---\n",
        "# Module 4: Python Programming Fundamentals"
      ]
    },
    {
      "cell_type": "markdown",
      "metadata": {},
      "source": [
        "### Reading Files with Open:"
      ]
    },
    {
      "cell_type": "code",
      "execution_count": 257,
      "metadata": {},
      "outputs": [],
      "source": [
        "# File1 = open(\"/documents/file_with_data.csv\", \"w\")\n"
      ]
    },
    {
      "cell_type": "markdown",
      "metadata": {},
      "source": [
        "    * File1 es el objecto del archivo, se le puede asignar cualquier nombre deseado\n",
        "    * *open* abre un archivo\n",
        "    * el primer argumento es el path del archivo\n",
        "    * el segundo argumento es el modo de apertura, tiene dos opciones: \"w\" o \"r\", donde \"w\" significa write y \"r\" significa read"
      ]
    },
    {
      "cell_type": "code",
      "execution_count": 258,
      "metadata": {},
      "outputs": [],
      "source": [
        "#File1.readlines()\n",
        "#file_lines = File1.readlines()\n",
        "#for line in file_lines:\n",
        "#print(line)"
      ]
    },
    {
      "cell_type": "markdown",
      "metadata": {},
      "source": [
        "    * readlines extrae la primera línea del archivo\n",
        "    * se pueden extraer caracteres especificando el número de caractéres como argumento de readlines, ej:  `File1.readlines[3]` extraerá los primeros 3 caracteres\n",
        "    * se pueden extraer dierentes líneas del archivo con indexing, ejemplo:  `file_lines[3]`"
      ]
    },
    {
      "cell_type": "markdown",
      "metadata": {},
      "source": [
        "### Writing Files with Open:\n",
        "* File1.write(\"Hello world!\")\n",
        "    * el método `write` escribe al archivo especificado en el objeto\n",
        "    * Se puede utilizar un `for loop` que escribe los contenidos de una lista a un archivo, por ej:"
      ]
    },
    {
      "cell_type": "code",
      "execution_count": 259,
      "metadata": {},
      "outputs": [
        {
          "name": "stdout",
          "output_type": "stream",
          "text": [
            "Line1\n",
            "Line2\n",
            "Line3\n"
          ]
        }
      ],
      "source": [
        "List = [ \"Line1\", \"Line2\", \"Line3\" ]\n",
        "for line in List:\n",
        "                    print(line)\n",
        "#File1.write(line)\n",
        "# es importante utilizar el argumento \"a\" de append, para agregar cada elemento como una nueva lista en el mismo archivo, y no crear un archivo nuevo"
      ]
    },
    {
      "cell_type": "markdown",
      "metadata": {},
      "source": [
        "### Loading Data with Pandas:\n",
        "* **pandas** es una librería de Python muy popular para análisis de datos, para utilizar sus funciones, primero se requiere importar la librería utilizando `import pandas`, se tiene como convención darle el alias *pd* (`import pandas as pd`)\n",
        "* Se utiliza comúnmente para trabajar con \"tablas\", o datos típicamente encontrados en hojas de cálculo\n",
        "* uno de los **types** principales de pandas son los **DataFrames** (`df`), que se componen de filas y columnas, como una tabla\n",
        "* Se puede utilizar el método *.head* para visualizar las primeras cinco filas de un DataFrame\n",
        "* Se puede utilizar indexing, especificando el nombre de una columna, para crear un nuevo DataFrame con una subsección de otro DataFrame, ej:"
      ]
    },
    {
      "cell_type": "code",
      "execution_count": 260,
      "metadata": {},
      "outputs": [],
      "source": [
        "#Este es un ejemplo, en donde housing_df es el nombre de la variable que contiene el dataframe, el cual contiene columnas con datos de vivienda\n",
        "#housing_df = df[['total_houses', 'house_price_value', 'total_bedrooms', 'mean_house_size', 'mean_house_price_value']]"
      ]
    },
    {
      "cell_type": "markdown",
      "metadata": {},
      "source": [
        "* Para acceder a un elemento (piensa en una celda de Excel) se puede utilizar el método `.ix` (`df.ix`), seguido de indexing, utilizando un par de números enteros en donde el primer valor se refiere al número de fila, y el segundo valor al número de columna (como si fuera un sistema de coordenadas X,Y); ej: `df.ix[3,2]` en donde accederemos al elemento en la cuarta fila (porque la primera fila utiliza el número 0) de la tercera columna (porque la primera columna utiliza el número 0)."
      ]
    },
    {
      "cell_type": "code",
      "execution_count": 261,
      "metadata": {},
      "outputs": [
        {
          "ename": "NameError",
          "evalue": "name 'housing_df' is not defined",
          "output_type": "error",
          "traceback": [
            "\u001b[1;31m---------------------------------------------------------------------------\u001b[0m",
            "\u001b[1;31mNameError\u001b[0m                                 Traceback (most recent call last)",
            "Cell \u001b[1;32mIn [261], line 1\u001b[0m\n\u001b[1;32m----> 1\u001b[0m \u001b[38;5;28mprint\u001b[39m(\u001b[43mhousing_df\u001b[49m\u001b[38;5;241m.\u001b[39mix[\u001b[38;5;241m3\u001b[39m,\u001b[38;5;241m2\u001b[39m])\n",
            "\u001b[1;31mNameError\u001b[0m: name 'housing_df' is not defined"
          ]
        }
      ],
      "source": [
        "print(housing_df.ix[3,2])"
      ]
    },
    {
      "cell_type": "code",
      "execution_count": null,
      "metadata": {},
      "outputs": [],
      "source": [
        "#También se puede utilizar el nombre de la columna en el segundo argumento; ej:\n",
        "print(df.ix[3, 'house_price_value'])"
      ]
    },
    {
      "cell_type": "code",
      "execution_count": null,
      "metadata": {},
      "outputs": [],
      "source": [
        "#Se puede crear una subtabla del dataframe original utilizando indexing; ej:\n",
        "print(new_df = df.ix[0:2, 0:3])"
      ]
    },
    {
      "cell_type": "code",
      "execution_count": null,
      "metadata": {},
      "outputs": [],
      "source": [
        "#También se puede utilizar el nombre de la columna, con el siguiente formato:\n",
        "print(new_df = df.ix[0:2, 'total_houses':'total_bedrooms'])"
      ]
    },
    {
      "cell_type": "markdown",
      "metadata": {},
      "source": [
        "### Working with and Saving Data with Pandas:"
      ]
    },
    {
      "cell_type": "code",
      "execution_count": null,
      "metadata": {},
      "outputs": [],
      "source": [
        "#El método `unique` ayuda a encontar los valores únicos dentro de una columna de un DataFrame; ej:\n",
        "print(housing_df['total_bedrooms'].unique())"
      ]
    },
    {
      "cell_type": "code",
      "execution_count": null,
      "metadata": {},
      "outputs": [],
      "source": [
        "#También podemos filtrar un DataFrame seleccionando solamente las filas que cumplan con una condición en cierta columna utilizando condicionales booleanas, y asignando a un nuevo DataFrame; por ej:\n",
        "affordable_housing_df = df[[housing_df['mean_house_price']<=50000]]\n",
        "print(affordable_housing_df)"
      ]
    },
    {
      "cell_type": "markdown",
      "metadata": {},
      "source": [
        "\n",
        "Podemos guardar el nuevo DataFrame a un nuevo archivo externo utilizando *.to_csv()*, y especificando el nombre del archivo como argumento; ej: `affordable_housing_df.to_csv('affordable_housing_data.csv')` \n"
      ]
    },
    {
      "cell_type": "markdown",
      "metadata": {},
      "source": [
        "---\n",
        "# Module 5: Working with Numpy Arrays & Simple APIs"
      ]
    },
    {
      "cell_type": "markdown",
      "metadata": {},
      "source": [
        "### Numpy 1D Arrays:"
      ]
    },
    {
      "cell_type": "code",
      "execution_count": 263,
      "metadata": {},
      "outputs": [],
      "source": [
        "import numpy as np"
      ]
    },
    {
      "cell_type": "code",
      "execution_count": 264,
      "metadata": {},
      "outputs": [],
      "source": [
        "#un numpy array es similar a una lista, tiene un número fijo de elementos y sus elementos son del mismo tipo\n",
        "a = np.array([0, 1, 2, 3, 4])"
      ]
    },
    {
      "cell_type": "markdown",
      "metadata": {},
      "source": [
        "Podemos sumar vectores con numpy, se suman dos 1D Arrays (Numpy Series); realizar esta suma con Python sin numpy conllevaría código más elaborado, y numpy es más eficiente en memoria"
      ]
    },
    {
      "cell_type": "code",
      "execution_count": 265,
      "metadata": {},
      "outputs": [
        {
          "name": "stdout",
          "output_type": "stream",
          "text": [
            "[1 1]\n"
          ]
        }
      ],
      "source": [
        "u = np.array([1, 0])\n",
        "v = np.array([0, 1])\n",
        "z = u + v\n",
        "print(z)"
      ]
    },
    {
      "cell_type": "markdown",
      "metadata": {},
      "source": [
        "También se pueden restar vectores con numpy, el proceso es el mismo, solo se cambia (+) por (-)"
      ]
    },
    {
      "cell_type": "code",
      "execution_count": 266,
      "metadata": {},
      "outputs": [
        {
          "name": "stdout",
          "output_type": "stream",
          "text": [
            "[ 1 -1]\n"
          ]
        }
      ],
      "source": [
        "u = np.array([1, 0])\n",
        "v = np.array([0, 1])\n",
        "z = u - v\n",
        "print(z)"
      ]
    },
    {
      "cell_type": "markdown",
      "metadata": {},
      "source": [
        "También se puede multiplicar un vector utilizando un escalar con numpy:"
      ]
    },
    {
      "cell_type": "code",
      "execution_count": 267,
      "metadata": {},
      "outputs": [
        {
          "name": "stdout",
          "output_type": "stream",
          "text": [
            "[3 6]\n"
          ]
        }
      ],
      "source": [
        "m = np.array([1, 2])\n",
        "n = 3*m\n",
        "#Ambos valores del vector se multiplican por el escalar (en este caso 3), el resultado sería [3, 6]\n",
        "print(n)"
      ]
    },
    {
      "cell_type": "code",
      "execution_count": 268,
      "metadata": {},
      "outputs": [
        {
          "name": "stdout",
          "output_type": "stream",
          "text": [
            "7\n"
          ]
        }
      ],
      "source": [
        "#Se puede utilizar el método `dot` para calcular el producto punto de dos vectores; ej:\n",
        "u = np.array([1, 2])\n",
        "v = np.array([3, 2])\n",
        "z = u.dot(v)\n",
        "print(z)"
      ]
    },
    {
      "cell_type": "markdown",
      "metadata": {},
      "source": [
        "También se puede sumar un valor constante a un array:"
      ]
    },
    {
      "cell_type": "code",
      "execution_count": 270,
      "metadata": {},
      "outputs": [
        {
          "name": "stdout",
          "output_type": "stream",
          "text": [
            "[[ 2  3  4  5]\n",
            " [ 6  7  8  9]\n",
            " [10 11 12 13]]\n"
          ]
        }
      ],
      "source": [
        "arr = np.array([[1, 2, 3, 4], [5, 6, 7, 8], [9, 10, 11, 12]])\n",
        "arr1 = arr+1\n",
        "print(arr1)"
      ]
    },
    {
      "cell_type": "code",
      "execution_count": 284,
      "metadata": {},
      "outputs": [
        {
          "name": "stdout",
          "output_type": "stream",
          "text": [
            "6.5\n"
          ]
        }
      ],
      "source": [
        "print(arr.mean())"
      ]
    },
    {
      "cell_type": "markdown",
      "metadata": {},
      "source": [
        "### Numpy 2D Arrays:"
      ]
    },
    {
      "cell_type": "markdown",
      "metadata": {},
      "source": [
        "También se pueden crear arrays de más de una dimensión. Estos se pueden crear a partir de listas:"
      ]
    },
    {
      "cell_type": "code",
      "execution_count": 289,
      "metadata": {},
      "outputs": [
        {
          "name": "stdout",
          "output_type": "stream",
          "text": [
            "[[11 12 13]\n",
            " [21 22 23]\n",
            " [31 32 33]]\n"
          ]
        }
      ],
      "source": [
        "list = [[11, 12, 13],[21, 22, 23], [31, 32, 33]]\n",
        "Array_1 = np.array(list)\n",
        "print(Array_1)"
      ]
    },
    {
      "cell_type": "code",
      "execution_count": 290,
      "metadata": {},
      "outputs": [
        {
          "data": {
            "text/plain": [
              "2"
            ]
          },
          "execution_count": 290,
          "metadata": {},
          "output_type": "execute_result"
        }
      ],
      "source": [
        "# Para conocer la dimensión del array, podemos utilizar ndim:\n",
        "Array_1.ndim"
      ]
    },
    {
      "cell_type": "code",
      "execution_count": 291,
      "metadata": {},
      "outputs": [
        {
          "data": {
            "text/plain": [
              "(3, 3)"
            ]
          },
          "execution_count": 291,
          "metadata": {},
          "output_type": "execute_result"
        }
      ],
      "source": [
        "# El método shape nos permite conocer el número de filas y columnas del array:\n",
        "Array_1.shape"
      ]
    },
    {
      "cell_type": "code",
      "execution_count": 292,
      "metadata": {},
      "outputs": [
        {
          "data": {
            "text/plain": [
              "9"
            ]
          },
          "execution_count": 292,
          "metadata": {},
          "output_type": "execute_result"
        }
      ],
      "source": [
        "# El método size nos permite conocer el número de elementos del array:\n",
        "Array_1.size"
      ]
    },
    {
      "cell_type": "code",
      "execution_count": 294,
      "metadata": {},
      "outputs": [
        {
          "data": {
            "text/plain": [
              "23"
            ]
          },
          "execution_count": 294,
          "metadata": {},
          "output_type": "execute_result"
        }
      ],
      "source": [
        "# Para obtener un elemento específico del array, podemos utilizar el siguiente formato:\n",
        "Array_1[1,2]\n",
        "# En donde el primer número corresponde a la fila, y el segundo a la columna."
      ]
    },
    {
      "cell_type": "code",
      "execution_count": 297,
      "metadata": {},
      "outputs": [
        {
          "name": "stdout",
          "output_type": "stream",
          "text": [
            "[[52 54 56]\n",
            " [72 74 76]\n",
            " [92 94 96]]\n"
          ]
        }
      ],
      "source": [
        "# Podemos sumar arrays del mismo tamaño, y cada elemento se suma con su correspondiente (misma posición) elemento del otro array; ej:\n",
        "Array_2 = np.array([[41, 42, 43],[51, 52, 53], [61, 62, 63]])\n",
        "Array_3 = Array_1 + Array_2\n",
        "print(Array_3)"
      ]
    },
    {
      "cell_type": "code",
      "execution_count": 298,
      "metadata": {},
      "outputs": [
        {
          "data": {
            "text/plain": [
              "array([[22, 24, 26],\n",
              "       [42, 44, 46],\n",
              "       [62, 64, 66]])"
            ]
          },
          "execution_count": 298,
          "metadata": {},
          "output_type": "execute_result"
        }
      ],
      "source": [
        "# También se puede multiplicar un array utilizando un escalar:\n",
        "Array_1*2"
      ]
    },
    {
      "cell_type": "code",
      "execution_count": 301,
      "metadata": {},
      "outputs": [
        {
          "name": "stdout",
          "output_type": "stream",
          "text": [
            "[[ 451  504  559]\n",
            " [1071 1144 1219]\n",
            " [1891 1984 2079]]\n"
          ]
        }
      ],
      "source": [
        "# También se puede multiplicar un array utilizando otro array del mismo tamaño, y cada elemento se multiplica con su correspondiente (misma posición) elemento del otro array; ej:\n",
        "Array_4 = Array_1 * Array_2\n",
        "print(Array_4)"
      ]
    },
    {
      "cell_type": "markdown",
      "metadata": {},
      "source": [
        "### Simple APIs - Part 1:"
      ]
    },
    {
      "cell_type": "markdown",
      "metadata": {},
      "source": [
        "Un API (Application Program Interface) es un conector que permite comunicar un software con otro, enviando y reicibiendo datos. Los REST (REpresentational State Transfer) APIs se utilizan para enviar y recibir datos por internet. En un REST API, tu programa se llama Client, el API se comunica con un servidor web por medio de internet; enviando un *request* o *input*, y recibiendo un *response* o *output*. Para utilizar los REST APIs y crear una comunicación por medio de internet, se utilizan los métodos HTTP.\\\n",
        "\n",
        "> Algunos de los métodos HTTP más utilizados son **GET**, **POST** o **PATCH**.\n",
        "\n",
        "Por lo general, estos métodos HTTP van acompañados de un request, el cual conlleva instrucciones en un formato conocido como JSON (JavaScript Object Notation) que es muy similar a un *dict* de Python, también utilizan pares *key:value*. El servidor web que recibe el request hace una operación y regresa un response también en forma de mensaje JSON.\\\n",
        "\\\n",
        "En el video del curso, una vez que recibe el JSON object como response, lo convierte a un dict de Python, y posteriormenta a un Pandas DataFrame, esto facilita el análisis de los datos.\n"
      ]
    },
    {
      "cell_type": "markdown",
      "metadata": {},
      "source": [
        "### Certificado del curso:"
      ]
    },
    {
      "cell_type": "markdown",
      "metadata": {},
      "source": [
        "El certificado del curso (formato PDF) se puede visualizar en la siguiente liga:\n",
        "\n",
        "https://github.com/PosgradoMNA/actividades-de-aprendizaje-a01110946/blob/main/Python-for-Data-Science-IBM/Certificate%20-%20IBM%20-%20Python%20for%20Data%20Science.pdf"
      ]
    }
  ],
  "metadata": {
    "colab": {
      "include_colab_link": true,
      "provenance": []
    },
    "kernelspec": {
      "display_name": "Python 3.10.7 64-bit",
      "language": "python",
      "name": "python3"
    },
    "language_info": {
      "codemirror_mode": {
        "name": "ipython",
        "version": 3
      },
      "file_extension": ".py",
      "mimetype": "text/x-python",
      "name": "python",
      "nbconvert_exporter": "python",
      "pygments_lexer": "ipython3",
      "version": "3.10.7"
    },
    "vscode": {
      "interpreter": {
        "hash": "1cbadf7e30f156f4e0b68f4bca81fa70237e67691d6ebe573bb449e31d409fb8"
      }
    }
  },
  "nbformat": 4,
  "nbformat_minor": 0
}
