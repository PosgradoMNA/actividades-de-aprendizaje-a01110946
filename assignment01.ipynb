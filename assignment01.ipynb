{
  "cells": [
    {
      "cell_type": "markdown",
      "metadata": {
        "colab_type": "text",
        "id": "view-in-github"
      },
      "source": [
        "<a href=\"https://colab.research.google.com/github/PosgradoMNA/actividades-de-aprendizaje-a01110946/blob/main/assignment01.ipynb\" target=\"_parent\"><img src=\"https://colab.research.google.com/assets/colab-badge.svg\" alt=\"Open In Colab\"/></a>"
      ]
    },
    {
      "cell_type": "code",
      "execution_count": null,
      "metadata": {
        "colab": {
          "base_uri": "https://localhost:8080/"
        },
        "id": "LzUSMM79NR9P",
        "outputId": "0e6cb421-1096-426a-b31a-f61d059def81"
      },
      "outputs": [
        {
          "name": "stdout",
          "output_type": "stream",
          "text": [
            "assignment01 for GitJobish03 and edited in git, and 18\n"
          ]
        }
      ],
      "source": [
        "print('assignment01 for GitJobish03 and edited in git, and 18')"
      ]
    },
    {
      "cell_type": "markdown",
      "metadata": {
        "id": "mxM_WppZPMFx"
      },
      "source": [
        "Tan pronto como los analistas de Target se dieron cuenta de que \"tan pronto como consigamos que nos compren pañales, también comenzarán a comprar todo lo demás\", aplicaron algunos modelos predictivos para mejorar sus ventas.  \n",
        "De hecho, tuvieron bastante éxito en esta práctica.  \n",
        "* Discuta las preocupaciones de ética y privacidad.\n",
        "* ¿Es una práctica que se puede apreciar?"
      ]
    },
    {
      "cell_type": "markdown",
      "metadata": {},
      "source": [
        "**Aportación inicial:** Publica una aportación bien desarrollada que aborda y desarrolla completamente todos los aspectos solicitados. *15 Puntos*  \n",
        "**Frecuencia de participación:** Participa al menos cinco veces en la discusión. *20 puntos*  \n",
        "**Respuesta a otros participantes:** Responde sustancialmente a más de tres publicaciones con comentarios de calidad. Siempre se incluyen referencias. *15 puntos*  \n",
        "**Contribución de contenidos:** Publica una contribución objetivamente correcta, reflexiva y sustantiva; abona a la discusión; demuestra el análisis de las publicaciones de otros; amplía la discusión significativa basándose en publicaciones anteriores. *20 puntos*  \n",
        "**Claridad y Mecánica:** Contribuye a la discusión con comentarios claros y concisos en un estilo fácil de leer que está libre de errores gramaticales u ortográficos. *15 puntos*  \n",
        "**Referencias:** Utiliza referencias a literatura, lecturas o experiencia personal comprobable para respaldar los comentarios. *15 puntos*\n",
        "\n",
        "Aportación inicial :heavy_check_mark:\n",
        "Frecuencia de participación :interrobang:\n",
        "Respuesta a otros participantes :x:\n",
        "Contribución de contenidos :heavy_check_mark:\n",
        "Claridad y mecánica :heavy_check_mark:\n",
        "Referencias :heavy_check_mark:"
      ]
    }
  ],
  "metadata": {
    "colab": {
      "include_colab_link": true,
      "name": "assignment01.ipynb",
      "provenance": []
    },
    "kernelspec": {
      "display_name": "Python 3",
      "name": "python3"
    },
    "language_info": {
      "name": "python"
    }
  },
  "nbformat": 4,
  "nbformat_minor": 0
}
